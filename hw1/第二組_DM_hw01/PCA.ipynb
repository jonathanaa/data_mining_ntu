{
 "cells": [
  {
   "cell_type": "code",
   "execution_count": 71,
   "metadata": {},
   "outputs": [],
   "source": [
    "import numpy as np\n",
    "import pandas as pd\n",
    "import random\n",
    "import matplotlib.pyplot as plt\n",
    "from sklearn.decomposition import PCA\n",
    "from sklearn.svm import SVC\n",
    "from sklearn.metrics import precision_score\n",
    "from sklearn.metrics import recall_score"
   ]
  },
  {
   "cell_type": "code",
   "execution_count": 72,
   "metadata": {},
   "outputs": [],
   "source": [
    "mnist_training_data = pd.read_csv(\"mnist_train.csv\")\n",
    "mnist_testing_data = pd.read_csv(\"mnist_test.csv\")"
   ]
  },
  {
   "cell_type": "code",
   "execution_count": 73,
   "metadata": {},
   "outputs": [
    {
     "data": {
      "text/plain": [
       "(60000, 785)"
      ]
     },
     "execution_count": 73,
     "metadata": {},
     "output_type": "execute_result"
    }
   ],
   "source": [
    "mnist_training_data.shape"
   ]
  },
  {
   "cell_type": "code",
   "execution_count": 74,
   "metadata": {},
   "outputs": [
    {
     "data": {
      "text/html": [
       "<div>\n",
       "<style scoped>\n",
       "    .dataframe tbody tr th:only-of-type {\n",
       "        vertical-align: middle;\n",
       "    }\n",
       "\n",
       "    .dataframe tbody tr th {\n",
       "        vertical-align: top;\n",
       "    }\n",
       "\n",
       "    .dataframe thead th {\n",
       "        text-align: right;\n",
       "    }\n",
       "</style>\n",
       "<table border=\"1\" class=\"dataframe\">\n",
       "  <thead>\n",
       "    <tr style=\"text-align: right;\">\n",
       "      <th></th>\n",
       "      <th>label</th>\n",
       "      <th>1x1</th>\n",
       "      <th>1x2</th>\n",
       "      <th>1x3</th>\n",
       "      <th>1x4</th>\n",
       "      <th>1x5</th>\n",
       "      <th>1x6</th>\n",
       "      <th>1x7</th>\n",
       "      <th>1x8</th>\n",
       "      <th>1x9</th>\n",
       "      <th>...</th>\n",
       "      <th>28x19</th>\n",
       "      <th>28x20</th>\n",
       "      <th>28x21</th>\n",
       "      <th>28x22</th>\n",
       "      <th>28x23</th>\n",
       "      <th>28x24</th>\n",
       "      <th>28x25</th>\n",
       "      <th>28x26</th>\n",
       "      <th>28x27</th>\n",
       "      <th>28x28</th>\n",
       "    </tr>\n",
       "  </thead>\n",
       "  <tbody>\n",
       "    <tr>\n",
       "      <td>0</td>\n",
       "      <td>5</td>\n",
       "      <td>0</td>\n",
       "      <td>0</td>\n",
       "      <td>0</td>\n",
       "      <td>0</td>\n",
       "      <td>0</td>\n",
       "      <td>0</td>\n",
       "      <td>0</td>\n",
       "      <td>0</td>\n",
       "      <td>0</td>\n",
       "      <td>...</td>\n",
       "      <td>0</td>\n",
       "      <td>0</td>\n",
       "      <td>0</td>\n",
       "      <td>0</td>\n",
       "      <td>0</td>\n",
       "      <td>0</td>\n",
       "      <td>0</td>\n",
       "      <td>0</td>\n",
       "      <td>0</td>\n",
       "      <td>0</td>\n",
       "    </tr>\n",
       "    <tr>\n",
       "      <td>1</td>\n",
       "      <td>0</td>\n",
       "      <td>0</td>\n",
       "      <td>0</td>\n",
       "      <td>0</td>\n",
       "      <td>0</td>\n",
       "      <td>0</td>\n",
       "      <td>0</td>\n",
       "      <td>0</td>\n",
       "      <td>0</td>\n",
       "      <td>0</td>\n",
       "      <td>...</td>\n",
       "      <td>0</td>\n",
       "      <td>0</td>\n",
       "      <td>0</td>\n",
       "      <td>0</td>\n",
       "      <td>0</td>\n",
       "      <td>0</td>\n",
       "      <td>0</td>\n",
       "      <td>0</td>\n",
       "      <td>0</td>\n",
       "      <td>0</td>\n",
       "    </tr>\n",
       "    <tr>\n",
       "      <td>2</td>\n",
       "      <td>4</td>\n",
       "      <td>0</td>\n",
       "      <td>0</td>\n",
       "      <td>0</td>\n",
       "      <td>0</td>\n",
       "      <td>0</td>\n",
       "      <td>0</td>\n",
       "      <td>0</td>\n",
       "      <td>0</td>\n",
       "      <td>0</td>\n",
       "      <td>...</td>\n",
       "      <td>0</td>\n",
       "      <td>0</td>\n",
       "      <td>0</td>\n",
       "      <td>0</td>\n",
       "      <td>0</td>\n",
       "      <td>0</td>\n",
       "      <td>0</td>\n",
       "      <td>0</td>\n",
       "      <td>0</td>\n",
       "      <td>0</td>\n",
       "    </tr>\n",
       "    <tr>\n",
       "      <td>3</td>\n",
       "      <td>1</td>\n",
       "      <td>0</td>\n",
       "      <td>0</td>\n",
       "      <td>0</td>\n",
       "      <td>0</td>\n",
       "      <td>0</td>\n",
       "      <td>0</td>\n",
       "      <td>0</td>\n",
       "      <td>0</td>\n",
       "      <td>0</td>\n",
       "      <td>...</td>\n",
       "      <td>0</td>\n",
       "      <td>0</td>\n",
       "      <td>0</td>\n",
       "      <td>0</td>\n",
       "      <td>0</td>\n",
       "      <td>0</td>\n",
       "      <td>0</td>\n",
       "      <td>0</td>\n",
       "      <td>0</td>\n",
       "      <td>0</td>\n",
       "    </tr>\n",
       "    <tr>\n",
       "      <td>4</td>\n",
       "      <td>9</td>\n",
       "      <td>0</td>\n",
       "      <td>0</td>\n",
       "      <td>0</td>\n",
       "      <td>0</td>\n",
       "      <td>0</td>\n",
       "      <td>0</td>\n",
       "      <td>0</td>\n",
       "      <td>0</td>\n",
       "      <td>0</td>\n",
       "      <td>...</td>\n",
       "      <td>0</td>\n",
       "      <td>0</td>\n",
       "      <td>0</td>\n",
       "      <td>0</td>\n",
       "      <td>0</td>\n",
       "      <td>0</td>\n",
       "      <td>0</td>\n",
       "      <td>0</td>\n",
       "      <td>0</td>\n",
       "      <td>0</td>\n",
       "    </tr>\n",
       "  </tbody>\n",
       "</table>\n",
       "<p>5 rows × 785 columns</p>\n",
       "</div>"
      ],
      "text/plain": [
       "   label  1x1  1x2  1x3  1x4  1x5  1x6  1x7  1x8  1x9  ...  28x19  28x20  \\\n",
       "0      5    0    0    0    0    0    0    0    0    0  ...      0      0   \n",
       "1      0    0    0    0    0    0    0    0    0    0  ...      0      0   \n",
       "2      4    0    0    0    0    0    0    0    0    0  ...      0      0   \n",
       "3      1    0    0    0    0    0    0    0    0    0  ...      0      0   \n",
       "4      9    0    0    0    0    0    0    0    0    0  ...      0      0   \n",
       "\n",
       "   28x21  28x22  28x23  28x24  28x25  28x26  28x27  28x28  \n",
       "0      0      0      0      0      0      0      0      0  \n",
       "1      0      0      0      0      0      0      0      0  \n",
       "2      0      0      0      0      0      0      0      0  \n",
       "3      0      0      0      0      0      0      0      0  \n",
       "4      0      0      0      0      0      0      0      0  \n",
       "\n",
       "[5 rows x 785 columns]"
      ]
     },
     "execution_count": 74,
     "metadata": {},
     "output_type": "execute_result"
    }
   ],
   "source": [
    "mnist_training_data.head(5)"
   ]
  },
  {
   "cell_type": "code",
   "execution_count": 75,
   "metadata": {},
   "outputs": [
    {
     "data": {
      "text/plain": [
       "(10000, 785)"
      ]
     },
     "execution_count": 75,
     "metadata": {},
     "output_type": "execute_result"
    }
   ],
   "source": [
    "mnist_testing_data.shape"
   ]
  },
  {
   "cell_type": "code",
   "execution_count": 76,
   "metadata": {},
   "outputs": [
    {
     "data": {
      "text/html": [
       "<div>\n",
       "<style scoped>\n",
       "    .dataframe tbody tr th:only-of-type {\n",
       "        vertical-align: middle;\n",
       "    }\n",
       "\n",
       "    .dataframe tbody tr th {\n",
       "        vertical-align: top;\n",
       "    }\n",
       "\n",
       "    .dataframe thead th {\n",
       "        text-align: right;\n",
       "    }\n",
       "</style>\n",
       "<table border=\"1\" class=\"dataframe\">\n",
       "  <thead>\n",
       "    <tr style=\"text-align: right;\">\n",
       "      <th></th>\n",
       "      <th>label</th>\n",
       "      <th>1x1</th>\n",
       "      <th>1x2</th>\n",
       "      <th>1x3</th>\n",
       "      <th>1x4</th>\n",
       "      <th>1x5</th>\n",
       "      <th>1x6</th>\n",
       "      <th>1x7</th>\n",
       "      <th>1x8</th>\n",
       "      <th>1x9</th>\n",
       "      <th>...</th>\n",
       "      <th>28x19</th>\n",
       "      <th>28x20</th>\n",
       "      <th>28x21</th>\n",
       "      <th>28x22</th>\n",
       "      <th>28x23</th>\n",
       "      <th>28x24</th>\n",
       "      <th>28x25</th>\n",
       "      <th>28x26</th>\n",
       "      <th>28x27</th>\n",
       "      <th>28x28</th>\n",
       "    </tr>\n",
       "  </thead>\n",
       "  <tbody>\n",
       "    <tr>\n",
       "      <td>0</td>\n",
       "      <td>7</td>\n",
       "      <td>0</td>\n",
       "      <td>0</td>\n",
       "      <td>0</td>\n",
       "      <td>0</td>\n",
       "      <td>0</td>\n",
       "      <td>0</td>\n",
       "      <td>0</td>\n",
       "      <td>0</td>\n",
       "      <td>0</td>\n",
       "      <td>...</td>\n",
       "      <td>0</td>\n",
       "      <td>0</td>\n",
       "      <td>0</td>\n",
       "      <td>0</td>\n",
       "      <td>0</td>\n",
       "      <td>0</td>\n",
       "      <td>0</td>\n",
       "      <td>0</td>\n",
       "      <td>0</td>\n",
       "      <td>0</td>\n",
       "    </tr>\n",
       "    <tr>\n",
       "      <td>1</td>\n",
       "      <td>2</td>\n",
       "      <td>0</td>\n",
       "      <td>0</td>\n",
       "      <td>0</td>\n",
       "      <td>0</td>\n",
       "      <td>0</td>\n",
       "      <td>0</td>\n",
       "      <td>0</td>\n",
       "      <td>0</td>\n",
       "      <td>0</td>\n",
       "      <td>...</td>\n",
       "      <td>0</td>\n",
       "      <td>0</td>\n",
       "      <td>0</td>\n",
       "      <td>0</td>\n",
       "      <td>0</td>\n",
       "      <td>0</td>\n",
       "      <td>0</td>\n",
       "      <td>0</td>\n",
       "      <td>0</td>\n",
       "      <td>0</td>\n",
       "    </tr>\n",
       "    <tr>\n",
       "      <td>2</td>\n",
       "      <td>1</td>\n",
       "      <td>0</td>\n",
       "      <td>0</td>\n",
       "      <td>0</td>\n",
       "      <td>0</td>\n",
       "      <td>0</td>\n",
       "      <td>0</td>\n",
       "      <td>0</td>\n",
       "      <td>0</td>\n",
       "      <td>0</td>\n",
       "      <td>...</td>\n",
       "      <td>0</td>\n",
       "      <td>0</td>\n",
       "      <td>0</td>\n",
       "      <td>0</td>\n",
       "      <td>0</td>\n",
       "      <td>0</td>\n",
       "      <td>0</td>\n",
       "      <td>0</td>\n",
       "      <td>0</td>\n",
       "      <td>0</td>\n",
       "    </tr>\n",
       "    <tr>\n",
       "      <td>3</td>\n",
       "      <td>0</td>\n",
       "      <td>0</td>\n",
       "      <td>0</td>\n",
       "      <td>0</td>\n",
       "      <td>0</td>\n",
       "      <td>0</td>\n",
       "      <td>0</td>\n",
       "      <td>0</td>\n",
       "      <td>0</td>\n",
       "      <td>0</td>\n",
       "      <td>...</td>\n",
       "      <td>0</td>\n",
       "      <td>0</td>\n",
       "      <td>0</td>\n",
       "      <td>0</td>\n",
       "      <td>0</td>\n",
       "      <td>0</td>\n",
       "      <td>0</td>\n",
       "      <td>0</td>\n",
       "      <td>0</td>\n",
       "      <td>0</td>\n",
       "    </tr>\n",
       "    <tr>\n",
       "      <td>4</td>\n",
       "      <td>4</td>\n",
       "      <td>0</td>\n",
       "      <td>0</td>\n",
       "      <td>0</td>\n",
       "      <td>0</td>\n",
       "      <td>0</td>\n",
       "      <td>0</td>\n",
       "      <td>0</td>\n",
       "      <td>0</td>\n",
       "      <td>0</td>\n",
       "      <td>...</td>\n",
       "      <td>0</td>\n",
       "      <td>0</td>\n",
       "      <td>0</td>\n",
       "      <td>0</td>\n",
       "      <td>0</td>\n",
       "      <td>0</td>\n",
       "      <td>0</td>\n",
       "      <td>0</td>\n",
       "      <td>0</td>\n",
       "      <td>0</td>\n",
       "    </tr>\n",
       "  </tbody>\n",
       "</table>\n",
       "<p>5 rows × 785 columns</p>\n",
       "</div>"
      ],
      "text/plain": [
       "   label  1x1  1x2  1x3  1x4  1x5  1x6  1x7  1x8  1x9  ...  28x19  28x20  \\\n",
       "0      7    0    0    0    0    0    0    0    0    0  ...      0      0   \n",
       "1      2    0    0    0    0    0    0    0    0    0  ...      0      0   \n",
       "2      1    0    0    0    0    0    0    0    0    0  ...      0      0   \n",
       "3      0    0    0    0    0    0    0    0    0    0  ...      0      0   \n",
       "4      4    0    0    0    0    0    0    0    0    0  ...      0      0   \n",
       "\n",
       "   28x21  28x22  28x23  28x24  28x25  28x26  28x27  28x28  \n",
       "0      0      0      0      0      0      0      0      0  \n",
       "1      0      0      0      0      0      0      0      0  \n",
       "2      0      0      0      0      0      0      0      0  \n",
       "3      0      0      0      0      0      0      0      0  \n",
       "4      0      0      0      0      0      0      0      0  \n",
       "\n",
       "[5 rows x 785 columns]"
      ]
     },
     "execution_count": 76,
     "metadata": {},
     "output_type": "execute_result"
    }
   ],
   "source": [
    "mnist_testing_data.head(5)"
   ]
  },
  {
   "cell_type": "code",
   "execution_count": 77,
   "metadata": {},
   "outputs": [
    {
     "name": "stdout",
     "output_type": "stream",
     "text": [
      "5\n",
      "0\n",
      "4\n",
      "1\n",
      "9\n"
     ]
    },
    {
     "data": {
      "image/png": "[encoded data removed]",
      "text/plain": [
       "<Figure size 216x216 with 1 Axes>"
      ]
     },
     "metadata": {
      "needs_background": "light"
     },
     "output_type": "display_data"
    },
    {
     "data": {
      "image/png": "[encoded data removed]",
      "text/plain": [
       "<Figure size 216x216 with 1 Axes>"
      ]
     },
     "metadata": {
      "needs_background": "light"
     },
     "output_type": "display_data"
    },
    {
     "data": {
      "image/png": "[encoded data removed]",
      "text/plain": [
       "<Figure size 216x216 with 1 Axes>"
      ]
     },
     "metadata": {
      "needs_background": "light"
     },
     "output_type": "display_data"
    },
    {
     "data": {
      "image/png": "[encoded data removed]",
      "text/plain": [
       "<Figure size 216x216 with 1 Axes>"
      ]
     },
     "metadata": {
      "needs_background": "light"
     },
     "output_type": "display_data"
    },
    {
     "data": {
      "image/png": "[encoded data removed]",
      "text/plain": [
       "<Figure size 216x216 with 1 Axes>"
      ]
     },
     "metadata": {
      "needs_background": "light"
     },
     "output_type": "display_data"
    }
   ],
   "source": [
    "for i in range(5):\n",
    "    tem_pixel=mnist_training_data.loc[i][1:]\n",
    "    # plot MNIST numbers\n",
    "    plt.figure(figsize=(3,3))\n",
    "    grid_data = tem_pixel.values.reshape(28,28)\n",
    "    plt.imshow(grid_data, cmap='gray')\n",
    "    print(mnist_training_data.loc[i][0])"
   ]
  },
  {
   "cell_type": "code",
   "execution_count": 105,
   "metadata": {},
   "outputs": [
    {
     "data": {
      "text/plain": [
       "<matplotlib.image.AxesImage at 0x15883cb1708>"
      ]
     },
     "execution_count": 105,
     "metadata": {},
     "output_type": "execute_result"
    },
    {
     "data": {
      "image/png": "[encoded data removed]",
      "text/plain": [
       "<Figure size 144x144 with 1 Axes>"
      ]
     },
     "metadata": {
      "needs_background": "light"
     },
     "output_type": "display_data"
    }
   ],
   "source": [
    "tem_pixel=mnist_training_data.loc[0][1:]\n",
    "plt.figure(figsize=(2,2))\n",
    "grid_data = tem_pixel.values.reshape(28,28)\n",
    "plt.imshow(grid_data, cmap='gray')"
   ]
  },
  {
   "cell_type": "code",
   "execution_count": 79,
   "metadata": {},
   "outputs": [
    {
     "data": {
      "text/plain": [
       "Text(0.5, 1.0, 'Distribution of MNIST Images (Training Set)')"
      ]
     },
     "execution_count": 79,
     "metadata": {},
     "output_type": "execute_result"
    },
    {
     "data": {
      "image/png": "[encoded data removed]",
      "text/plain": [
       "<Figure size 576x360 with 1 Axes>"
      ]
     },
     "metadata": {
      "needs_background": "light"
     },
     "output_type": "display_data"
    }
   ],
   "source": [
    "num_label=[0]*10\n",
    "for num in mnist_training_data['label']:\n",
    "    num_label[num] += 1\n",
    "plt.figure(figsize=(8,5))\n",
    "x = np.arange(10)\n",
    "plt.bar(x, height=num_label)\n",
    "plt.xlabel(\"Digit\")\n",
    "plt.ylabel(\"Frequency\")\n",
    "plt.title(\"Distribution of MNIST Images (Training Set)\")"
   ]
  },
  {
   "cell_type": "code",
   "execution_count": 80,
   "metadata": {},
   "outputs": [
    {
     "data": {
      "text/plain": [
       "Text(0.5, 1.0, 'Distribution of MNIST Images (Testing Set)')"
      ]
     },
     "execution_count": 80,
     "metadata": {},
     "output_type": "execute_result"
    },
    {
     "data": {
      "image/png": "[encoded data removed]",
      "text/plain": [
       "<Figure size 576x360 with 1 Axes>"
      ]
     },
     "metadata": {
      "needs_background": "light"
     },
     "output_type": "display_data"
    }
   ],
   "source": [
    "num_label=[0]*10\n",
    "for num in mnist_testing_data['label']:\n",
    "    num_label[num] += 1\n",
    "plt.figure(figsize=(8,5))\n",
    "x = np.arange(10)\n",
    "plt.bar(x, height=num_label)\n",
    "plt.xlabel(\"Digit\")\n",
    "plt.ylabel(\"Frequency\")\n",
    "plt.title(\"Distribution of MNIST Images (Testing Set)\")"
   ]
  },
  {
   "cell_type": "code",
   "execution_count": 81,
   "metadata": {},
   "outputs": [],
   "source": [
    "X_train = mnist_training_data.drop(['label'], axis='columns', inplace=False)\n",
    "Y_train = mnist_training_data['label']\n",
    "X_test = mnist_testing_data.drop(['label'], axis='columns', inplace=False)\n",
    "Y_test = mnist_testing_data['label']"
   ]
  },
  {
   "cell_type": "markdown",
   "metadata": {},
   "source": [
    "# 可以把30換成其他值，做比較"
   ]
  },
  {
   "cell_type": "code",
   "execution_count": 103,
   "metadata": {},
   "outputs": [
    {
     "name": "stdout",
     "output_type": "stream",
     "text": [
      "30\n",
      "0.7305368690269265\n"
     ]
    }
   ],
   "source": [
    "# Dimension Reduction\n",
    "# 使用主成分分析(Principal components analysis，PCA)實現\n",
    "pca = PCA(n_components=30)\n",
    "new_X_train = pca.fit_transform(X_train)\n",
    "new_X_test = pca.transform(X_test)\n",
    "# 維度減完在進行辨識器的訓練前我們先對資料進行歸一化(normalization)的動作\n",
    "# 把每一筆input data都除上255使其值落在0~1之間\n",
    "# 很重要，一定要做\n",
    "new_X_train = new_X_train/255\n",
    "new_X_test = new_X_test/255\n",
    "print(pca.n_components_)\n",
    "print(sum(pca.explained_variance_ratio_))\n",
    "# 維度降至30的版本，僅解釋掉了73%的變異"
   ]
  },
  {
   "cell_type": "code",
   "execution_count": 104,
   "metadata": {},
   "outputs": [
    {
     "data": {
      "image/png": "[encoded data removed]",
      "text/plain": [
       "<Figure size 144x144 with 1 Axes>"
      ]
     },
     "metadata": {
      "needs_background": "light"
     },
     "output_type": "display_data"
    }
   ],
   "source": [
    "# 降到30維，所畫出的圖\n",
    "img = pca.inverse_transform(new_X_train[0]*255)\n",
    "img = img.reshape(28,28)\n",
    "plt.figure(figsize=(2,2))\n",
    "plt.imshow(img, cmap='gray')\n",
    "plt.show()"
   ]
  },
  {
   "cell_type": "markdown",
   "metadata": {},
   "source": [
    "# 使用SVC(Support Vector Classification)進行模型的訓練與辨識\n",
    "# SVC+PCA(30)"
   ]
  },
  {
   "cell_type": "code",
   "execution_count": 13,
   "metadata": {},
   "outputs": [
    {
     "name": "stdout",
     "output_type": "stream",
     "text": [
      "訓練資料辨識率: 0.9885666666666667\n",
      "測試資料辨識率: 0.9803\n",
      "Precision: 0.9803101872977882\n",
      "Recall: 0.9801430517562523\n"
     ]
    }
   ],
   "source": [
    "clf = SVC()\n",
    "clf.fit(new_X_train, Y_train)\n",
    "print(\"訓練資料辨識率:\",np.mean(clf.predict(new_X_train) == Y_train))\n",
    "print(\"測試資料辨識率:\",np.mean(clf.predict(new_X_test) == Y_test))\n",
    "print(\"Precision:\",precision_score(Y_test, clf.predict(new_X_test), average='macro'))\n",
    "print(\"Recall:\",recall_score(Y_test, clf.predict(new_X_test), average='macro'))"
   ]
  },
  {
   "cell_type": "markdown",
   "metadata": {},
   "source": [
    "# KNN+PCA(30)"
   ]
  },
  {
   "cell_type": "code",
   "execution_count": 14,
   "metadata": {},
   "outputs": [
    {
     "name": "stdout",
     "output_type": "stream",
     "text": [
      "訓練資料辨識率: 0.9851\n",
      "測試資料辨識率: 0.9754\n",
      "Precision: 0.9754269394500706\n",
      "Recall: 0.9752194711024155\n"
     ]
    }
   ],
   "source": [
    "from sklearn.neighbors import KNeighborsClassifier\n",
    "clf = KNeighborsClassifier()\n",
    "clf.fit(new_X_train, Y_train)\n",
    "print(\"訓練資料辨識率:\",np.mean(clf.predict(new_X_train) == Y_train))\n",
    "print(\"測試資料辨識率:\",np.mean(clf.predict(new_X_test) == Y_test))\n",
    "print(\"Precision:\",precision_score(Y_test, clf.predict(new_X_test), average='macro'))\n",
    "print(\"Recall:\",recall_score(Y_test, clf.predict(new_X_test), average='macro'))"
   ]
  },
  {
   "cell_type": "markdown",
   "metadata": {},
   "source": [
    "# DecisionTree+PCA(30)"
   ]
  },
  {
   "cell_type": "code",
   "execution_count": 15,
   "metadata": {},
   "outputs": [
    {
     "name": "stdout",
     "output_type": "stream",
     "text": [
      "訓練資料辨識率: 1.0\n",
      "測試資料辨識率: 0.849\n",
      "Precision: 0.8467359147887128\n",
      "Recall: 0.8468455890509977\n"
     ]
    }
   ],
   "source": [
    "from sklearn.tree import DecisionTreeClassifier\n",
    "clf = DecisionTreeClassifier()\n",
    "clf.fit(new_X_train, Y_train)\n",
    "print(\"訓練資料辨識率:\",np.mean(clf.predict(new_X_train) == Y_train))\n",
    "print(\"測試資料辨識率:\",np.mean(clf.predict(new_X_test) == Y_test))\n",
    "print(\"Precision:\",precision_score(Y_test, clf.predict(new_X_test), average='macro'))\n",
    "print(\"Recall:\",recall_score(Y_test, clf.predict(new_X_test), average='macro'))"
   ]
  },
  {
   "cell_type": "markdown",
   "metadata": {},
   "source": [
    "# RandomForest+PCA(30)"
   ]
  },
  {
   "cell_type": "code",
   "execution_count": 16,
   "metadata": {},
   "outputs": [
    {
     "name": "stdout",
     "output_type": "stream",
     "text": [
      "訓練資料辨識率: 1.0\n",
      "測試資料辨識率: 0.9538\n",
      "Precision: 0.953189855371558\n",
      "Recall: 0.9534061531074336\n"
     ]
    }
   ],
   "source": [
    "from sklearn.ensemble import RandomForestClassifier\n",
    "clf = RandomForestClassifier()\n",
    "clf.fit(new_X_train, Y_train)\n",
    "print(\"訓練資料辨識率:\",np.mean(clf.predict(new_X_train) == Y_train))\n",
    "print(\"測試資料辨識率:\",np.mean(clf.predict(new_X_test) == Y_test))\n",
    "print(\"Precision:\",precision_score(Y_test, clf.predict(new_X_test), average='macro'))\n",
    "print(\"Recall:\",recall_score(Y_test, clf.predict(new_X_test), average='macro'))"
   ]
  },
  {
   "cell_type": "markdown",
   "metadata": {},
   "source": [
    "# 使用SVC(Support Vector Classification)進行模型的訓練與辨識\n",
    "# SVC+PCA(1)"
   ]
  },
  {
   "cell_type": "code",
   "execution_count": 17,
   "metadata": {},
   "outputs": [
    {
     "name": "stdout",
     "output_type": "stream",
     "text": [
      "1\n",
      "0.09704664359260148\n"
     ]
    }
   ],
   "source": [
    "pca = PCA(n_components=1)\n",
    "new_X_train = pca.fit_transform(X_train)\n",
    "new_X_test = pca.transform(X_test)\n",
    "new_X_train = new_X_train/255\n",
    "new_X_test = new_X_test/255\n",
    "print(pca.n_components_)\n",
    "print(sum(pca.explained_variance_ratio_))"
   ]
  },
  {
   "cell_type": "code",
   "execution_count": 18,
   "metadata": {},
   "outputs": [
    {
     "data": {
      "image/png": "[encoded data removed]",
      "text/plain": [
       "<Figure size 432x288 with 1 Axes>"
      ]
     },
     "metadata": {
      "needs_background": "light"
     },
     "output_type": "display_data"
    },
    {
     "name": "stdout",
     "output_type": "stream",
     "text": [
      "5\n"
     ]
    }
   ],
   "source": [
    "img = pca.inverse_transform(new_X_train[0]*255)\n",
    "img = img.reshape(28,28)\n",
    "plt.imshow(img, cmap='Greys_r')\n",
    "plt.axis('off')\n",
    "plt.show()\n",
    "print(Y_train[0])"
   ]
  },
  {
   "cell_type": "code",
   "execution_count": 19,
   "metadata": {},
   "outputs": [
    {
     "name": "stdout",
     "output_type": "stream",
     "text": [
      "訓練資料辨識率: 0.30605\n",
      "測試資料辨識率: 0.3151\n"
     ]
    },
    {
     "name": "stderr",
     "output_type": "stream",
     "text": [
      "D:\\Anaconda3\\envs\\data_extract\\lib\\site-packages\\sklearn\\metrics\\_classification.py:1272: UndefinedMetricWarning: Precision is ill-defined and being set to 0.0 in labels with no predicted samples. Use `zero_division` parameter to control this behavior.\n",
      "  _warn_prf(average, modifier, msg_start, len(result))\n"
     ]
    },
    {
     "name": "stdout",
     "output_type": "stream",
     "text": [
      "Precision: 0.20797141555122645\n",
      "Recall: 0.3037232012647822\n"
     ]
    }
   ],
   "source": [
    "clf = SVC()\n",
    "clf.fit(new_X_train, Y_train)\n",
    "print(\"訓練資料辨識率:\",np.mean(clf.predict(new_X_train) == Y_train))\n",
    "print(\"測試資料辨識率:\",np.mean(clf.predict(new_X_test) == Y_test))\n",
    "print(\"Precision:\",precision_score(Y_test, clf.predict(new_X_test), average='macro'))\n",
    "print(\"Recall:\",recall_score(Y_test, clf.predict(new_X_test), average='macro'))"
   ]
  },
  {
   "cell_type": "markdown",
   "metadata": {},
   "source": [
    "# KNN+PCA(1)"
   ]
  },
  {
   "cell_type": "code",
   "execution_count": 20,
   "metadata": {},
   "outputs": [
    {
     "name": "stdout",
     "output_type": "stream",
     "text": [
      "訓練資料辨識率: 0.47855\n",
      "測試資料辨識率: 0.2738\n",
      "Precision: 0.23564190208497499\n",
      "Recall: 0.26384215243044734\n"
     ]
    }
   ],
   "source": [
    "from sklearn.neighbors import KNeighborsClassifier\n",
    "clf = KNeighborsClassifier()\n",
    "clf.fit(new_X_train, Y_train)\n",
    "print(\"訓練資料辨識率:\",np.mean(clf.predict(new_X_train) == Y_train))\n",
    "print(\"測試資料辨識率:\",np.mean(clf.predict(new_X_test) == Y_test))\n",
    "print(\"Precision:\",precision_score(Y_test, clf.predict(new_X_test), average='macro'))\n",
    "print(\"Recall:\",recall_score(Y_test, clf.predict(new_X_test), average='macro'))"
   ]
  },
  {
   "cell_type": "markdown",
   "metadata": {},
   "source": [
    "# DecisionTree+PCA(1)"
   ]
  },
  {
   "cell_type": "code",
   "execution_count": 21,
   "metadata": {},
   "outputs": [
    {
     "name": "stdout",
     "output_type": "stream",
     "text": [
      "訓練資料辨識率: 0.9991166666666667\n",
      "測試資料辨識率: 0.2487\n",
      "Precision: 0.239450460759396\n",
      "Recall: 0.24015344100095706\n"
     ]
    }
   ],
   "source": [
    "from sklearn.tree import DecisionTreeClassifier\n",
    "clf = DecisionTreeClassifier()\n",
    "clf.fit(new_X_train, Y_train)\n",
    "print(\"訓練資料辨識率:\",np.mean(clf.predict(new_X_train) == Y_train))\n",
    "print(\"測試資料辨識率:\",np.mean(clf.predict(new_X_test) == Y_test))\n",
    "print(\"Precision:\",precision_score(Y_test, clf.predict(new_X_test), average='macro'))\n",
    "print(\"Recall:\",recall_score(Y_test, clf.predict(new_X_test), average='macro'))"
   ]
  },
  {
   "cell_type": "markdown",
   "metadata": {},
   "source": [
    "# RandomForest+PCA(1)"
   ]
  },
  {
   "cell_type": "code",
   "execution_count": 22,
   "metadata": {},
   "outputs": [
    {
     "name": "stdout",
     "output_type": "stream",
     "text": [
      "訓練資料辨識率: 0.999\n",
      "測試資料辨識率: 0.2488\n",
      "Precision: 0.23954590817334392\n",
      "Recall: 0.24025782513456875\n"
     ]
    }
   ],
   "source": [
    "from sklearn.ensemble import RandomForestClassifier\n",
    "clf = RandomForestClassifier()\n",
    "clf.fit(new_X_train, Y_train)\n",
    "print(\"訓練資料辨識率:\",np.mean(clf.predict(new_X_train) == Y_train))\n",
    "print(\"測試資料辨識率:\",np.mean(clf.predict(new_X_test) == Y_test))\n",
    "print(\"Precision:\",precision_score(Y_test, clf.predict(new_X_test), average='macro'))\n",
    "print(\"Recall:\",recall_score(Y_test, clf.predict(new_X_test), average='macro'))"
   ]
  },
  {
   "cell_type": "markdown",
   "metadata": {},
   "source": [
    "# 使用SVC(Support Vector Classification)進行模型的訓練與辨識\n",
    "# SVC+PCA(5)"
   ]
  },
  {
   "cell_type": "code",
   "execution_count": 23,
   "metadata": {},
   "outputs": [
    {
     "name": "stdout",
     "output_type": "stream",
     "text": [
      "5\n",
      "0.33227893634141975\n"
     ]
    }
   ],
   "source": [
    "pca = PCA(n_components=5)\n",
    "new_X_train = pca.fit_transform(X_train)\n",
    "new_X_test = pca.transform(X_test)\n",
    "new_X_train = new_X_train/255\n",
    "new_X_test = new_X_test/255\n",
    "print(pca.n_components_)\n",
    "print(sum(pca.explained_variance_ratio_))"
   ]
  },
  {
   "cell_type": "code",
   "execution_count": 24,
   "metadata": {},
   "outputs": [
    {
     "data": {
      "image/png": "[encoded data removed]",
      "text/plain": [
       "<Figure size 432x288 with 1 Axes>"
      ]
     },
     "metadata": {
      "needs_background": "light"
     },
     "output_type": "display_data"
    },
    {
     "name": "stdout",
     "output_type": "stream",
     "text": [
      "5\n"
     ]
    }
   ],
   "source": [
    "img = pca.inverse_transform(new_X_train[0]*255)\n",
    "img = img.reshape(28,28)\n",
    "plt.imshow(img, cmap='Greys_r')\n",
    "plt.axis('off')\n",
    "plt.show()\n",
    "print(Y_train[0])"
   ]
  },
  {
   "cell_type": "code",
   "execution_count": 25,
   "metadata": {},
   "outputs": [
    {
     "name": "stdout",
     "output_type": "stream",
     "text": [
      "訓練資料辨識率: 0.7647833333333334\n",
      "測試資料辨識率: 0.7728\n",
      "Precision: 0.7736068635941942\n",
      "Recall: 0.7708339020864816\n"
     ]
    }
   ],
   "source": [
    "clf = SVC()\n",
    "clf.fit(new_X_train, Y_train)\n",
    "print(\"訓練資料辨識率:\",np.mean(clf.predict(new_X_train) == Y_train))\n",
    "print(\"測試資料辨識率:\",np.mean(clf.predict(new_X_test) == Y_test))\n",
    "print(\"Precision:\",precision_score(Y_test, clf.predict(new_X_test), average='macro'))\n",
    "print(\"Recall:\",recall_score(Y_test, clf.predict(new_X_test), average='macro'))"
   ]
  },
  {
   "cell_type": "markdown",
   "metadata": {},
   "source": [
    "# KNN+PCA(5)"
   ]
  },
  {
   "cell_type": "code",
   "execution_count": 26,
   "metadata": {},
   "outputs": [
    {
     "name": "stdout",
     "output_type": "stream",
     "text": [
      "訓練資料辨識率: 0.8136666666666666\n",
      "測試資料辨識率: 0.7475\n",
      "Precision: 0.7449080716470864\n",
      "Recall: 0.7445301752302317\n"
     ]
    }
   ],
   "source": [
    "from sklearn.neighbors import KNeighborsClassifier\n",
    "clf = KNeighborsClassifier()\n",
    "clf.fit(new_X_train, Y_train)\n",
    "print(\"訓練資料辨識率:\",np.mean(clf.predict(new_X_train) == Y_train))\n",
    "print(\"測試資料辨識率:\",np.mean(clf.predict(new_X_test) == Y_test))\n",
    "print(\"Precision:\",precision_score(Y_test, clf.predict(new_X_test), average='macro'))\n",
    "print(\"Recall:\",recall_score(Y_test, clf.predict(new_X_test), average='macro'))"
   ]
  },
  {
   "cell_type": "markdown",
   "metadata": {},
   "source": [
    "# DecisionTree+PCA(5)"
   ]
  },
  {
   "cell_type": "code",
   "execution_count": 27,
   "metadata": {},
   "outputs": [
    {
     "name": "stdout",
     "output_type": "stream",
     "text": [
      "訓練資料辨識率: 1.0\n",
      "測試資料辨識率: 0.6693\n",
      "Precision: 0.6651341377390831\n",
      "Recall: 0.66499198389969\n"
     ]
    }
   ],
   "source": [
    "from sklearn.tree import DecisionTreeClassifier\n",
    "clf = DecisionTreeClassifier()\n",
    "clf.fit(new_X_train, Y_train)\n",
    "print(\"訓練資料辨識率:\",np.mean(clf.predict(new_X_train) == Y_train))\n",
    "print(\"測試資料辨識率:\",np.mean(clf.predict(new_X_test) == Y_test))\n",
    "print(\"Precision:\",precision_score(Y_test, clf.predict(new_X_test), average='macro'))\n",
    "print(\"Recall:\",recall_score(Y_test, clf.predict(new_X_test), average='macro'))"
   ]
  },
  {
   "cell_type": "markdown",
   "metadata": {},
   "source": [
    "# RandomForest+PCA(5)"
   ]
  },
  {
   "cell_type": "code",
   "execution_count": 28,
   "metadata": {},
   "outputs": [
    {
     "name": "stdout",
     "output_type": "stream",
     "text": [
      "訓練資料辨識率: 0.9999833333333333\n",
      "測試資料辨識率: 0.7628\n",
      "Precision: 0.7616183094922361\n",
      "Recall: 0.7602890175043916\n"
     ]
    }
   ],
   "source": [
    "from sklearn.ensemble import RandomForestClassifier\n",
    "clf = RandomForestClassifier()\n",
    "clf.fit(new_X_train, Y_train)\n",
    "print(\"訓練資料辨識率:\",np.mean(clf.predict(new_X_train) == Y_train))\n",
    "print(\"測試資料辨識率:\",np.mean(clf.predict(new_X_test) == Y_test))\n",
    "print(\"Precision:\",precision_score(Y_test, clf.predict(new_X_test), average='macro'))\n",
    "print(\"Recall:\",recall_score(Y_test, clf.predict(new_X_test), average='macro'))"
   ]
  },
  {
   "cell_type": "markdown",
   "metadata": {},
   "source": [
    "# 使用SVC(Support Vector Classification)進行模型的訓練與辨識\n",
    "# SVC+PCA(10)"
   ]
  },
  {
   "cell_type": "code",
   "execution_count": 29,
   "metadata": {},
   "outputs": [
    {
     "name": "stdout",
     "output_type": "stream",
     "text": [
      "10\n",
      "0.4881497551225863\n"
     ]
    }
   ],
   "source": [
    "pca = PCA(n_components=10)\n",
    "new_X_train = pca.fit_transform(X_train)\n",
    "new_X_test = pca.transform(X_test)\n",
    "new_X_train = new_X_train/255\n",
    "new_X_test = new_X_test/255\n",
    "print(pca.n_components_)\n",
    "print(sum(pca.explained_variance_ratio_))"
   ]
  },
  {
   "cell_type": "code",
   "execution_count": 30,
   "metadata": {},
   "outputs": [
    {
     "data": {
      "image/png": "[encoded data removed]",
      "text/plain": [
       "<Figure size 432x288 with 1 Axes>"
      ]
     },
     "metadata": {
      "needs_background": "light"
     },
     "output_type": "display_data"
    },
    {
     "name": "stdout",
     "output_type": "stream",
     "text": [
      "5\n"
     ]
    }
   ],
   "source": [
    "img = pca.inverse_transform(new_X_train[0]*255)\n",
    "img = img.reshape(28,28)\n",
    "plt.imshow(img, cmap='Greys_r')\n",
    "plt.axis('off')\n",
    "plt.show()\n",
    "print(Y_train[0])"
   ]
  },
  {
   "cell_type": "code",
   "execution_count": 31,
   "metadata": {},
   "outputs": [
    {
     "name": "stdout",
     "output_type": "stream",
     "text": [
      "訓練資料辨識率: 0.9434\n",
      "測試資料辨識率: 0.9364\n",
      "Precision: 0.9354876446997755\n",
      "Recall: 0.9355616745644273\n"
     ]
    }
   ],
   "source": [
    "clf = SVC()\n",
    "clf.fit(new_X_train, Y_train)\n",
    "print(\"訓練資料辨識率:\",np.mean(clf.predict(new_X_train) == Y_train))\n",
    "print(\"測試資料辨識率:\",np.mean(clf.predict(new_X_test) == Y_test))\n",
    "print(\"Precision:\",precision_score(Y_test, clf.predict(new_X_test), average='macro'))\n",
    "print(\"Recall:\",recall_score(Y_test, clf.predict(new_X_test), average='macro'))"
   ]
  },
  {
   "cell_type": "markdown",
   "metadata": {},
   "source": [
    "# KNN+PCA(10)"
   ]
  },
  {
   "cell_type": "code",
   "execution_count": 32,
   "metadata": {},
   "outputs": [
    {
     "name": "stdout",
     "output_type": "stream",
     "text": [
      "訓練資料辨識率: 0.9545166666666667\n",
      "測試資料辨識率: 0.9276\n",
      "Precision: 0.9267769110085741\n",
      "Recall: 0.9266610474201146\n"
     ]
    }
   ],
   "source": [
    "from sklearn.neighbors import KNeighborsClassifier\n",
    "clf = KNeighborsClassifier()\n",
    "clf.fit(new_X_train, Y_train)\n",
    "print(\"訓練資料辨識率:\",np.mean(clf.predict(new_X_train) == Y_train))\n",
    "print(\"測試資料辨識率:\",np.mean(clf.predict(new_X_test) == Y_test))\n",
    "print(\"Precision:\",precision_score(Y_test, clf.predict(new_X_test), average='macro'))\n",
    "print(\"Recall:\",recall_score(Y_test, clf.predict(new_X_test), average='macro'))"
   ]
  },
  {
   "cell_type": "markdown",
   "metadata": {},
   "source": [
    "# DecisionTree+PCA(10)"
   ]
  },
  {
   "cell_type": "code",
   "execution_count": 33,
   "metadata": {},
   "outputs": [
    {
     "name": "stdout",
     "output_type": "stream",
     "text": [
      "訓練資料辨識率: 1.0\n",
      "測試資料辨識率: 0.8238\n",
      "Precision: 0.8216259060437215\n",
      "Recall: 0.821301049771531\n"
     ]
    }
   ],
   "source": [
    "from sklearn.tree import DecisionTreeClassifier\n",
    "clf = DecisionTreeClassifier()\n",
    "clf.fit(new_X_train, Y_train)\n",
    "print(\"訓練資料辨識率:\",np.mean(clf.predict(new_X_train) == Y_train))\n",
    "print(\"測試資料辨識率:\",np.mean(clf.predict(new_X_test) == Y_test))\n",
    "print(\"Precision:\",precision_score(Y_test, clf.predict(new_X_test), average='macro'))\n",
    "print(\"Recall:\",recall_score(Y_test, clf.predict(new_X_test), average='macro'))"
   ]
  },
  {
   "cell_type": "markdown",
   "metadata": {},
   "source": [
    "# RandomForest+PCA(10)"
   ]
  },
  {
   "cell_type": "code",
   "execution_count": 34,
   "metadata": {},
   "outputs": [
    {
     "name": "stdout",
     "output_type": "stream",
     "text": [
      "訓練資料辨識率: 1.0\n",
      "測試資料辨識率: 0.9139\n",
      "Precision: 0.9130073375859767\n",
      "Recall: 0.9126952752361529\n"
     ]
    }
   ],
   "source": [
    "from sklearn.ensemble import RandomForestClassifier\n",
    "clf = RandomForestClassifier()\n",
    "clf.fit(new_X_train, Y_train)\n",
    "print(\"訓練資料辨識率:\",np.mean(clf.predict(new_X_train) == Y_train))\n",
    "print(\"測試資料辨識率:\",np.mean(clf.predict(new_X_test) == Y_test))\n",
    "print(\"Precision:\",precision_score(Y_test, clf.predict(new_X_test), average='macro'))\n",
    "print(\"Recall:\",recall_score(Y_test, clf.predict(new_X_test), average='macro'))"
   ]
  },
  {
   "cell_type": "markdown",
   "metadata": {},
   "source": [
    "# 使用SVC(Support Vector Classification)進行模型的訓練與辨識\n",
    "# SVC+PCA(20)"
   ]
  },
  {
   "cell_type": "code",
   "execution_count": 35,
   "metadata": {},
   "outputs": [
    {
     "name": "stdout",
     "output_type": "stream",
     "text": [
      "20\n",
      "0.643576394098479\n"
     ]
    }
   ],
   "source": [
    "pca = PCA(n_components=20)\n",
    "new_X_train = pca.fit_transform(X_train)\n",
    "new_X_test = pca.transform(X_test)\n",
    "new_X_train = new_X_train/255\n",
    "new_X_test = new_X_test/255\n",
    "print(pca.n_components_)\n",
    "print(sum(pca.explained_variance_ratio_))"
   ]
  },
  {
   "cell_type": "code",
   "execution_count": 36,
   "metadata": {},
   "outputs": [
    {
     "data": {
      "image/png": "[encoded data removed]",
      "text/plain": [
       "<Figure size 432x288 with 1 Axes>"
      ]
     },
     "metadata": {
      "needs_background": "light"
     },
     "output_type": "display_data"
    },
    {
     "name": "stdout",
     "output_type": "stream",
     "text": [
      "5\n"
     ]
    }
   ],
   "source": [
    "img = pca.inverse_transform(new_X_train[0]*255)\n",
    "img = img.reshape(28,28)\n",
    "plt.imshow(img, cmap='Greys_r')\n",
    "plt.axis('off')\n",
    "plt.show()\n",
    "print(Y_train[0])"
   ]
  },
  {
   "cell_type": "code",
   "execution_count": 37,
   "metadata": {},
   "outputs": [
    {
     "name": "stdout",
     "output_type": "stream",
     "text": [
      "訓練資料辨識率: 0.98275\n",
      "測試資料辨識率: 0.9754\n",
      "Precision: 0.9753012942867718\n",
      "Recall: 0.9751649537433172\n"
     ]
    }
   ],
   "source": [
    "clf = SVC()\n",
    "clf.fit(new_X_train, Y_train)\n",
    "print(\"訓練資料辨識率:\",np.mean(clf.predict(new_X_train) == Y_train))\n",
    "print(\"測試資料辨識率:\",np.mean(clf.predict(new_X_test) == Y_test))\n",
    "print(\"Precision:\",precision_score(Y_test, clf.predict(new_X_test), average='macro'))\n",
    "print(\"Recall:\",recall_score(Y_test, clf.predict(new_X_test), average='macro'))"
   ]
  },
  {
   "cell_type": "markdown",
   "metadata": {},
   "source": [
    "# KNN+PCA(20)"
   ]
  },
  {
   "cell_type": "code",
   "execution_count": 38,
   "metadata": {},
   "outputs": [
    {
     "name": "stdout",
     "output_type": "stream",
     "text": [
      "訓練資料辨識率: 0.9810833333333333\n",
      "測試資料辨識率: 0.9692\n",
      "Precision: 0.9691496569298466\n",
      "Recall: 0.9688926587476955\n"
     ]
    }
   ],
   "source": [
    "from sklearn.neighbors import KNeighborsClassifier\n",
    "clf = KNeighborsClassifier()\n",
    "clf.fit(new_X_train, Y_train)\n",
    "print(\"訓練資料辨識率:\",np.mean(clf.predict(new_X_train) == Y_train))\n",
    "print(\"測試資料辨識率:\",np.mean(clf.predict(new_X_test) == Y_test))\n",
    "print(\"Precision:\",precision_score(Y_test, clf.predict(new_X_test), average='macro'))\n",
    "print(\"Recall:\",recall_score(Y_test, clf.predict(new_X_test), average='macro'))"
   ]
  },
  {
   "cell_type": "markdown",
   "metadata": {},
   "source": [
    "# DecisionTree+PCA(20)"
   ]
  },
  {
   "cell_type": "code",
   "execution_count": 39,
   "metadata": {},
   "outputs": [
    {
     "name": "stdout",
     "output_type": "stream",
     "text": [
      "訓練資料辨識率: 1.0\n",
      "測試資料辨識率: 0.8525\n",
      "Precision: 0.8502369440755357\n",
      "Recall: 0.8502000204228416\n"
     ]
    }
   ],
   "source": [
    "from sklearn.tree import DecisionTreeClassifier\n",
    "clf = DecisionTreeClassifier()\n",
    "clf.fit(new_X_train, Y_train)\n",
    "print(\"訓練資料辨識率:\",np.mean(clf.predict(new_X_train) == Y_train))\n",
    "print(\"測試資料辨識率:\",np.mean(clf.predict(new_X_test) == Y_test))\n",
    "print(\"Precision:\",precision_score(Y_test, clf.predict(new_X_test), average='macro'))\n",
    "print(\"Recall:\",recall_score(Y_test, clf.predict(new_X_test), average='macro'))"
   ]
  },
  {
   "cell_type": "markdown",
   "metadata": {},
   "source": [
    "# RandomForest+PCA(20)"
   ]
  },
  {
   "cell_type": "code",
   "execution_count": 40,
   "metadata": {},
   "outputs": [
    {
     "name": "stdout",
     "output_type": "stream",
     "text": [
      "訓練資料辨識率: 1.0\n",
      "測試資料辨識率: 0.9507\n",
      "Precision: 0.9500444820261192\n",
      "Recall: 0.9502542378709148\n"
     ]
    }
   ],
   "source": [
    "from sklearn.ensemble import RandomForestClassifier\n",
    "clf = RandomForestClassifier()\n",
    "clf.fit(new_X_train, Y_train)\n",
    "print(\"訓練資料辨識率:\",np.mean(clf.predict(new_X_train) == Y_train))\n",
    "print(\"測試資料辨識率:\",np.mean(clf.predict(new_X_test) == Y_test))\n",
    "print(\"Precision:\",precision_score(Y_test, clf.predict(new_X_test), average='macro'))\n",
    "print(\"Recall:\",recall_score(Y_test, clf.predict(new_X_test), average='macro'))"
   ]
  },
  {
   "cell_type": "markdown",
   "metadata": {},
   "source": [
    "# 使用SVC(Support Vector Classification)進行模型的訓練與辨識\n",
    "# SVC+PCA(50)"
   ]
  },
  {
   "cell_type": "code",
   "execution_count": 41,
   "metadata": {},
   "outputs": [
    {
     "name": "stdout",
     "output_type": "stream",
     "text": [
      "50\n",
      "0.8245917293935027\n"
     ]
    }
   ],
   "source": [
    "pca = PCA(n_components=50)\n",
    "new_X_train = pca.fit_transform(X_train)\n",
    "new_X_test = pca.transform(X_test)\n",
    "new_X_train = new_X_train/255\n",
    "new_X_test = new_X_test/255\n",
    "print(pca.n_components_)\n",
    "print(sum(pca.explained_variance_ratio_))"
   ]
  },
  {
   "cell_type": "code",
   "execution_count": 42,
   "metadata": {},
   "outputs": [
    {
     "data": {
      "image/png": "[encoded data removed]",
      "text/plain": [
       "<Figure size 432x288 with 1 Axes>"
      ]
     },
     "metadata": {
      "needs_background": "light"
     },
     "output_type": "display_data"
    },
    {
     "name": "stdout",
     "output_type": "stream",
     "text": [
      "5\n"
     ]
    }
   ],
   "source": [
    "img = pca.inverse_transform(new_X_train[0]*255)\n",
    "img = img.reshape(28,28)\n",
    "plt.imshow(img, cmap='Greys_r')\n",
    "plt.axis('off')\n",
    "plt.show()\n",
    "print(Y_train[0])"
   ]
  },
  {
   "cell_type": "code",
   "execution_count": 43,
   "metadata": {},
   "outputs": [
    {
     "name": "stdout",
     "output_type": "stream",
     "text": [
      "訓練資料辨識率: 0.99135\n",
      "測試資料辨識率: 0.9833\n",
      "Precision: 0.9832948641736536\n",
      "Recall: 0.9832019382858762\n"
     ]
    }
   ],
   "source": [
    "clf = SVC()\n",
    "clf.fit(new_X_train, Y_train)\n",
    "print(\"訓練資料辨識率:\",np.mean(clf.predict(new_X_train) == Y_train))\n",
    "print(\"測試資料辨識率:\",np.mean(clf.predict(new_X_test) == Y_test))\n",
    "print(\"Precision:\",precision_score(Y_test, clf.predict(new_X_test), average='macro'))\n",
    "print(\"Recall:\",recall_score(Y_test, clf.predict(new_X_test), average='macro'))"
   ]
  },
  {
   "cell_type": "markdown",
   "metadata": {},
   "source": [
    "# KNN+PCA(50)"
   ]
  },
  {
   "cell_type": "code",
   "execution_count": 44,
   "metadata": {},
   "outputs": [
    {
     "name": "stdout",
     "output_type": "stream",
     "text": [
      "訓練資料辨識率: 0.9858\n",
      "測試資料辨識率: 0.9749\n",
      "Precision: 0.9749835463468177\n",
      "Recall: 0.9746814062801148\n"
     ]
    }
   ],
   "source": [
    "from sklearn.neighbors import KNeighborsClassifier\n",
    "clf = KNeighborsClassifier()\n",
    "clf.fit(new_X_train, Y_train)\n",
    "print(\"訓練資料辨識率:\",np.mean(clf.predict(new_X_train) == Y_train))\n",
    "print(\"測試資料辨識率:\",np.mean(clf.predict(new_X_test) == Y_test))\n",
    "print(\"Precision:\",precision_score(Y_test, clf.predict(new_X_test), average='macro'))\n",
    "print(\"Recall:\",recall_score(Y_test, clf.predict(new_X_test), average='macro'))"
   ]
  },
  {
   "cell_type": "markdown",
   "metadata": {},
   "source": [
    "# DecisionTree+PCA(50)"
   ]
  },
  {
   "cell_type": "code",
   "execution_count": 45,
   "metadata": {},
   "outputs": [
    {
     "name": "stdout",
     "output_type": "stream",
     "text": [
      "訓練資料辨識率: 1.0\n",
      "測試資料辨識率: 0.8434\n",
      "Precision: 0.8410835632157383\n",
      "Recall: 0.8411109103649507\n"
     ]
    }
   ],
   "source": [
    "from sklearn.tree import DecisionTreeClassifier\n",
    "clf = DecisionTreeClassifier()\n",
    "clf.fit(new_X_train, Y_train)\n",
    "print(\"訓練資料辨識率:\",np.mean(clf.predict(new_X_train) == Y_train))\n",
    "print(\"測試資料辨識率:\",np.mean(clf.predict(new_X_test) == Y_test))\n",
    "print(\"Precision:\",precision_score(Y_test, clf.predict(new_X_test), average='macro'))\n",
    "print(\"Recall:\",recall_score(Y_test, clf.predict(new_X_test), average='macro'))"
   ]
  },
  {
   "cell_type": "markdown",
   "metadata": {},
   "source": [
    "# RandomForest+PCA(50)"
   ]
  },
  {
   "cell_type": "code",
   "execution_count": 46,
   "metadata": {},
   "outputs": [
    {
     "name": "stdout",
     "output_type": "stream",
     "text": [
      "訓練資料辨識率: 1.0\n",
      "測試資料辨識率: 0.9554\n",
      "Precision: 0.9549582974929851\n",
      "Recall: 0.9550017388114854\n"
     ]
    }
   ],
   "source": [
    "from sklearn.ensemble import RandomForestClassifier\n",
    "clf = RandomForestClassifier()\n",
    "clf.fit(new_X_train, Y_train)\n",
    "print(\"訓練資料辨識率:\",np.mean(clf.predict(new_X_train) == Y_train))\n",
    "print(\"測試資料辨識率:\",np.mean(clf.predict(new_X_test) == Y_test))\n",
    "print(\"Precision:\",precision_score(Y_test, clf.predict(new_X_test), average='macro'))\n",
    "print(\"Recall:\",recall_score(Y_test, clf.predict(new_X_test), average='macro'))"
   ]
  },
  {
   "cell_type": "markdown",
   "metadata": {},
   "source": [
    "# 使用SVC(Support Vector Classification)進行模型的訓練與辨識\n",
    "# SVC+PCA(100)"
   ]
  },
  {
   "cell_type": "code",
   "execution_count": 47,
   "metadata": {},
   "outputs": [
    {
     "name": "stdout",
     "output_type": "stream",
     "text": [
      "100\n",
      "0.9142000378903992\n"
     ]
    }
   ],
   "source": [
    "pca = PCA(n_components=100)\n",
    "new_X_train = pca.fit_transform(X_train)\n",
    "new_X_test = pca.transform(X_test)\n",
    "new_X_train = new_X_train/255\n",
    "new_X_test = new_X_test/255\n",
    "print(pca.n_components_)\n",
    "print(sum(pca.explained_variance_ratio_))"
   ]
  },
  {
   "cell_type": "code",
   "execution_count": 48,
   "metadata": {},
   "outputs": [
    {
     "data": {
      "image/png": "[encoded data removed]",
      "text/plain": [
       "<Figure size 432x288 with 1 Axes>"
      ]
     },
     "metadata": {
      "needs_background": "light"
     },
     "output_type": "display_data"
    },
    {
     "name": "stdout",
     "output_type": "stream",
     "text": [
      "5\n"
     ]
    }
   ],
   "source": [
    "img = pca.inverse_transform(new_X_train[0]*255)\n",
    "img = img.reshape(28,28)\n",
    "plt.imshow(img, cmap='Greys_r')\n",
    "plt.axis('off')\n",
    "plt.show()\n",
    "print(Y_train[0])"
   ]
  },
  {
   "cell_type": "code",
   "execution_count": 49,
   "metadata": {},
   "outputs": [
    {
     "name": "stdout",
     "output_type": "stream",
     "text": [
      "訓練資料辨識率: 0.99275\n",
      "測試資料辨識率: 0.9841\n",
      "Precision: 0.9840574732295497\n",
      "Recall: 0.9840318335390672\n"
     ]
    }
   ],
   "source": [
    "clf = SVC()\n",
    "clf.fit(new_X_train, Y_train)\n",
    "print(\"訓練資料辨識率:\",np.mean(clf.predict(new_X_train) == Y_train))\n",
    "print(\"測試資料辨識率:\",np.mean(clf.predict(new_X_test) == Y_test))\n",
    "print(\"Precision:\",precision_score(Y_test, clf.predict(new_X_test), average='macro'))\n",
    "print(\"Recall:\",recall_score(Y_test, clf.predict(new_X_test), average='macro'))"
   ]
  },
  {
   "cell_type": "markdown",
   "metadata": {},
   "source": [
    "# KNN+PCA(100)"
   ]
  },
  {
   "cell_type": "code",
   "execution_count": 50,
   "metadata": {},
   "outputs": [
    {
     "name": "stdout",
     "output_type": "stream",
     "text": [
      "訓練資料辨識率: 0.98435\n",
      "測試資料辨識率: 0.9727\n",
      "Precision: 0.9728467050784702\n",
      "Recall: 0.9724759069368263\n"
     ]
    }
   ],
   "source": [
    "from sklearn.neighbors import KNeighborsClassifier\n",
    "clf = KNeighborsClassifier()\n",
    "clf.fit(new_X_train, Y_train)\n",
    "print(\"訓練資料辨識率:\",np.mean(clf.predict(new_X_train) == Y_train))\n",
    "print(\"測試資料辨識率:\",np.mean(clf.predict(new_X_test) == Y_test))\n",
    "print(\"Precision:\",precision_score(Y_test, clf.predict(new_X_test), average='macro'))\n",
    "print(\"Recall:\",recall_score(Y_test, clf.predict(new_X_test), average='macro'))"
   ]
  },
  {
   "cell_type": "markdown",
   "metadata": {},
   "source": [
    "# DecisionTree+PCA(100)"
   ]
  },
  {
   "cell_type": "code",
   "execution_count": 51,
   "metadata": {},
   "outputs": [
    {
     "name": "stdout",
     "output_type": "stream",
     "text": [
      "訓練資料辨識率: 1.0\n",
      "測試資料辨識率: 0.8403\n",
      "Precision: 0.8378798394542152\n",
      "Recall: 0.8377085519821525\n"
     ]
    }
   ],
   "source": [
    "from sklearn.tree import DecisionTreeClassifier\n",
    "clf = DecisionTreeClassifier()\n",
    "clf.fit(new_X_train, Y_train)\n",
    "print(\"訓練資料辨識率:\",np.mean(clf.predict(new_X_train) == Y_train))\n",
    "print(\"測試資料辨識率:\",np.mean(clf.predict(new_X_test) == Y_test))\n",
    "print(\"Precision:\",precision_score(Y_test, clf.predict(new_X_test), average='macro'))\n",
    "print(\"Recall:\",recall_score(Y_test, clf.predict(new_X_test), average='macro'))"
   ]
  },
  {
   "cell_type": "markdown",
   "metadata": {},
   "source": [
    "# RandomForest+PCA(100)"
   ]
  },
  {
   "cell_type": "code",
   "execution_count": 52,
   "metadata": {},
   "outputs": [
    {
     "name": "stdout",
     "output_type": "stream",
     "text": [
      "訓練資料辨識率: 1.0\n",
      "測試資料辨識率: 0.9515\n",
      "Precision: 0.9510932132390716\n",
      "Recall: 0.9511564110597739\n"
     ]
    }
   ],
   "source": [
    "from sklearn.ensemble import RandomForestClassifier\n",
    "clf = RandomForestClassifier()\n",
    "clf.fit(new_X_train, Y_train)\n",
    "print(\"訓練資料辨識率:\",np.mean(clf.predict(new_X_train) == Y_train))\n",
    "print(\"測試資料辨識率:\",np.mean(clf.predict(new_X_test) == Y_test))\n",
    "print(\"Precision:\",precision_score(Y_test, clf.predict(new_X_test), average='macro'))\n",
    "print(\"Recall:\",recall_score(Y_test, clf.predict(new_X_test), average='macro'))"
   ]
  },
  {
   "cell_type": "markdown",
   "metadata": {},
   "source": [
    "# 使用SVC(Support Vector Classification)進行模型的訓練與辨識\n",
    "# SVC+PCA(200)"
   ]
  },
  {
   "cell_type": "code",
   "execution_count": 53,
   "metadata": {},
   "outputs": [
    {
     "name": "stdout",
     "output_type": "stream",
     "text": [
      "200\n",
      "0.9660812719287787\n"
     ]
    }
   ],
   "source": [
    "pca = PCA(n_components=200)\n",
    "new_X_train = pca.fit_transform(X_train)\n",
    "new_X_test = pca.transform(X_test)\n",
    "new_X_train = new_X_train/255\n",
    "new_X_test = new_X_test/255\n",
    "print(pca.n_components_)\n",
    "print(sum(pca.explained_variance_ratio_))"
   ]
  },
  {
   "cell_type": "code",
   "execution_count": 54,
   "metadata": {},
   "outputs": [
    {
     "data": {
      "image/png": "[encoded data removed]",
      "text/plain": [
       "<Figure size 432x288 with 1 Axes>"
      ]
     },
     "metadata": {
      "needs_background": "light"
     },
     "output_type": "display_data"
    },
    {
     "name": "stdout",
     "output_type": "stream",
     "text": [
      "5\n"
     ]
    }
   ],
   "source": [
    "img = pca.inverse_transform(new_X_train[0]*255)\n",
    "img = img.reshape(28,28)\n",
    "plt.imshow(img, cmap='Greys_r')\n",
    "plt.axis('off')\n",
    "plt.show()\n",
    "print(Y_train[0])"
   ]
  },
  {
   "cell_type": "code",
   "execution_count": 55,
   "metadata": {},
   "outputs": [
    {
     "name": "stdout",
     "output_type": "stream",
     "text": [
      "訓練資料辨識率: 0.9936666666666667\n",
      "測試資料辨識率: 0.9829\n",
      "Precision: 0.9829064874084095\n",
      "Recall: 0.9828086278937803\n"
     ]
    }
   ],
   "source": [
    "clf = SVC()\n",
    "clf.fit(new_X_train, Y_train)\n",
    "print(\"訓練資料辨識率:\",np.mean(clf.predict(new_X_train) == Y_train))\n",
    "print(\"測試資料辨識率:\",np.mean(clf.predict(new_X_test) == Y_test))\n",
    "print(\"Precision:\",precision_score(Y_test, clf.predict(new_X_test), average='macro'))\n",
    "print(\"Recall:\",recall_score(Y_test, clf.predict(new_X_test), average='macro'))"
   ]
  },
  {
   "cell_type": "markdown",
   "metadata": {},
   "source": [
    "# KNN+PCA(200)"
   ]
  },
  {
   "cell_type": "code",
   "execution_count": 56,
   "metadata": {},
   "outputs": [
    {
     "name": "stdout",
     "output_type": "stream",
     "text": [
      "訓練資料辨識率: 0.9827333333333333\n",
      "測試資料辨識率: 0.9698\n",
      "Precision: 0.9702129423823432\n",
      "Recall: 0.9694837725359454\n"
     ]
    }
   ],
   "source": [
    "from sklearn.neighbors import KNeighborsClassifier\n",
    "clf = KNeighborsClassifier()\n",
    "clf.fit(new_X_train, Y_train)\n",
    "print(\"訓練資料辨識率:\",np.mean(clf.predict(new_X_train) == Y_train))\n",
    "print(\"測試資料辨識率:\",np.mean(clf.predict(new_X_test) == Y_test))\n",
    "print(\"Precision:\",precision_score(Y_test, clf.predict(new_X_test), average='macro'))\n",
    "print(\"Recall:\",recall_score(Y_test, clf.predict(new_X_test), average='macro'))"
   ]
  },
  {
   "cell_type": "markdown",
   "metadata": {},
   "source": [
    "# DecisionTree+PCA(200)"
   ]
  },
  {
   "cell_type": "code",
   "execution_count": 57,
   "metadata": {},
   "outputs": [
    {
     "name": "stdout",
     "output_type": "stream",
     "text": [
      "訓練資料辨識率: 1.0\n",
      "測試資料辨識率: 0.8302\n",
      "Precision: 0.8280585886954961\n",
      "Recall: 0.8277011520489929\n"
     ]
    }
   ],
   "source": [
    "from sklearn.tree import DecisionTreeClassifier\n",
    "clf = DecisionTreeClassifier()\n",
    "clf.fit(new_X_train, Y_train)\n",
    "print(\"訓練資料辨識率:\",np.mean(clf.predict(new_X_train) == Y_train))\n",
    "print(\"測試資料辨識率:\",np.mean(clf.predict(new_X_test) == Y_test))\n",
    "print(\"Precision:\",precision_score(Y_test, clf.predict(new_X_test), average='macro'))\n",
    "print(\"Recall:\",recall_score(Y_test, clf.predict(new_X_test), average='macro'))"
   ]
  },
  {
   "cell_type": "markdown",
   "metadata": {},
   "source": [
    "# RandomForest+PCA(200)"
   ]
  },
  {
   "cell_type": "code",
   "execution_count": 58,
   "metadata": {},
   "outputs": [
    {
     "name": "stdout",
     "output_type": "stream",
     "text": [
      "訓練資料辨識率: 1.0\n",
      "測試資料辨識率: 0.9462\n",
      "Precision: 0.9456524004539173\n",
      "Recall: 0.94560743936756\n"
     ]
    }
   ],
   "source": [
    "from sklearn.ensemble import RandomForestClassifier\n",
    "clf = RandomForestClassifier()\n",
    "clf.fit(new_X_train, Y_train)\n",
    "print(\"訓練資料辨識率:\",np.mean(clf.predict(new_X_train) == Y_train))\n",
    "print(\"測試資料辨識率:\",np.mean(clf.predict(new_X_test) == Y_test))\n",
    "print(\"Precision:\",precision_score(Y_test, clf.predict(new_X_test), average='macro'))\n",
    "print(\"Recall:\",recall_score(Y_test, clf.predict(new_X_test), average='macro'))"
   ]
  },
  {
   "cell_type": "markdown",
   "metadata": {},
   "source": [
    "# 使用SVC(Support Vector Classification)進行模型的訓練與辨識\n",
    "# SVC+PCA(400)"
   ]
  },
  {
   "cell_type": "code",
   "execution_count": 59,
   "metadata": {},
   "outputs": [
    {
     "name": "stdout",
     "output_type": "stream",
     "text": [
      "400\n",
      "0.9957635820443839\n"
     ]
    }
   ],
   "source": [
    "pca = PCA(n_components=400)\n",
    "new_X_train = pca.fit_transform(X_train)\n",
    "new_X_test = pca.transform(X_test)\n",
    "new_X_train = new_X_train/255\n",
    "new_X_test = new_X_test/255\n",
    "print(pca.n_components_)\n",
    "print(sum(pca.explained_variance_ratio_))"
   ]
  },
  {
   "cell_type": "code",
   "execution_count": 60,
   "metadata": {},
   "outputs": [
    {
     "data": {
      "image/png": "[encoded data removed]",
      "text/plain": [
       "<Figure size 432x288 with 1 Axes>"
      ]
     },
     "metadata": {
      "needs_background": "light"
     },
     "output_type": "display_data"
    },
    {
     "name": "stdout",
     "output_type": "stream",
     "text": [
      "5\n"
     ]
    }
   ],
   "source": [
    "img = pca.inverse_transform(new_X_train[0]*255)\n",
    "img = img.reshape(28,28)\n",
    "plt.imshow(img, cmap='Greys_r')\n",
    "plt.axis('off')\n",
    "plt.show()\n",
    "print(Y_train[0])"
   ]
  },
  {
   "cell_type": "code",
   "execution_count": 61,
   "metadata": {},
   "outputs": [
    {
     "name": "stdout",
     "output_type": "stream",
     "text": [
      "訓練資料辨識率: 0.9940666666666667\n",
      "測試資料辨識率: 0.9823\n",
      "Precision: 0.9823158305193701\n",
      "Recall: 0.9822291961713715\n"
     ]
    }
   ],
   "source": [
    "clf = SVC()\n",
    "clf.fit(new_X_train, Y_train)\n",
    "print(\"訓練資料辨識率:\",np.mean(clf.predict(new_X_train) == Y_train))\n",
    "print(\"測試資料辨識率:\",np.mean(clf.predict(new_X_test) == Y_test))\n",
    "print(\"Precision:\",precision_score(Y_test, clf.predict(new_X_test), average='macro'))\n",
    "print(\"Recall:\",recall_score(Y_test, clf.predict(new_X_test), average='macro'))"
   ]
  },
  {
   "cell_type": "markdown",
   "metadata": {},
   "source": [
    "# KNN+PCA(400)"
   ]
  },
  {
   "cell_type": "code",
   "execution_count": 62,
   "metadata": {},
   "outputs": [
    {
     "name": "stdout",
     "output_type": "stream",
     "text": [
      "訓練資料辨識率: 0.9819166666666667\n",
      "測試資料辨識率: 0.9687\n",
      "Precision: 0.9691702424867026\n",
      "Recall: 0.9683784832944665\n"
     ]
    }
   ],
   "source": [
    "from sklearn.neighbors import KNeighborsClassifier\n",
    "clf = KNeighborsClassifier()\n",
    "clf.fit(new_X_train, Y_train)\n",
    "print(\"訓練資料辨識率:\",np.mean(clf.predict(new_X_train) == Y_train))\n",
    "print(\"測試資料辨識率:\",np.mean(clf.predict(new_X_test) == Y_test))\n",
    "print(\"Precision:\",precision_score(Y_test, clf.predict(new_X_test), average='macro'))\n",
    "print(\"Recall:\",recall_score(Y_test, clf.predict(new_X_test), average='macro'))"
   ]
  },
  {
   "cell_type": "markdown",
   "metadata": {},
   "source": [
    "# DecisionTree+PCA(400)"
   ]
  },
  {
   "cell_type": "code",
   "execution_count": 63,
   "metadata": {},
   "outputs": [
    {
     "name": "stdout",
     "output_type": "stream",
     "text": [
      "訓練資料辨識率: 1.0\n",
      "測試資料辨識率: 0.8175\n",
      "Precision: 0.8150352969149468\n",
      "Recall: 0.8147546129192846\n"
     ]
    }
   ],
   "source": [
    "from sklearn.tree import DecisionTreeClassifier\n",
    "clf = DecisionTreeClassifier()\n",
    "clf.fit(new_X_train, Y_train)\n",
    "print(\"訓練資料辨識率:\",np.mean(clf.predict(new_X_train) == Y_train))\n",
    "print(\"測試資料辨識率:\",np.mean(clf.predict(new_X_test) == Y_test))\n",
    "print(\"Precision:\",precision_score(Y_test, clf.predict(new_X_test), average='macro'))\n",
    "print(\"Recall:\",recall_score(Y_test, clf.predict(new_X_test), average='macro'))"
   ]
  },
  {
   "cell_type": "markdown",
   "metadata": {},
   "source": [
    "# RandomForest+PCA(400)"
   ]
  },
  {
   "cell_type": "code",
   "execution_count": 64,
   "metadata": {},
   "outputs": [
    {
     "name": "stdout",
     "output_type": "stream",
     "text": [
      "訓練資料辨識率: 1.0\n",
      "測試資料辨識率: 0.9359\n",
      "Precision: 0.9354514119187091\n",
      "Recall: 0.9351589709737294\n"
     ]
    }
   ],
   "source": [
    "from sklearn.ensemble import RandomForestClassifier\n",
    "clf = RandomForestClassifier()\n",
    "clf.fit(new_X_train, Y_train)\n",
    "print(\"訓練資料辨識率:\",np.mean(clf.predict(new_X_train) == Y_train))\n",
    "print(\"測試資料辨識率:\",np.mean(clf.predict(new_X_test) == Y_test))\n",
    "print(\"Precision:\",precision_score(Y_test, clf.predict(new_X_test), average='macro'))\n",
    "print(\"Recall:\",recall_score(Y_test, clf.predict(new_X_test), average='macro'))"
   ]
  },
  {
   "cell_type": "markdown",
   "metadata": {},
   "source": [
    "# 使用SVC(Support Vector Classification)進行模型的訓練與辨識\n",
    "# SVC+PCA(500)"
   ]
  },
  {
   "cell_type": "code",
   "execution_count": 65,
   "metadata": {},
   "outputs": [
    {
     "name": "stdout",
     "output_type": "stream",
     "text": [
      "500\n",
      "0.9992464222125766\n"
     ]
    }
   ],
   "source": [
    "pca = PCA(n_components=500)\n",
    "new_X_train = pca.fit_transform(X_train)\n",
    "new_X_test = pca.transform(X_test)\n",
    "new_X_train = new_X_train/255\n",
    "new_X_test = new_X_test/255\n",
    "print(pca.n_components_)\n",
    "print(sum(pca.explained_variance_ratio_))"
   ]
  },
  {
   "cell_type": "code",
   "execution_count": 66,
   "metadata": {},
   "outputs": [
    {
     "data": {
      "image/png": "[encoded data removed]",
      "text/plain": [
       "<Figure size 432x288 with 1 Axes>"
      ]
     },
     "metadata": {
      "needs_background": "light"
     },
     "output_type": "display_data"
    },
    {
     "name": "stdout",
     "output_type": "stream",
     "text": [
      "5\n"
     ]
    }
   ],
   "source": [
    "img = pca.inverse_transform(new_X_train[0]*255)\n",
    "img = img.reshape(28,28)\n",
    "plt.imshow(img, cmap='Greys_r')\n",
    "plt.axis('off')\n",
    "plt.show()\n",
    "print(Y_train[0])"
   ]
  },
  {
   "cell_type": "code",
   "execution_count": 67,
   "metadata": {},
   "outputs": [
    {
     "name": "stdout",
     "output_type": "stream",
     "text": [
      "訓練資料辨識率: 0.9941\n",
      "測試資料辨識率: 0.9824\n",
      "Precision: 0.9824151927105502\n",
      "Recall: 0.9823310291652614\n"
     ]
    }
   ],
   "source": [
    "clf = SVC()\n",
    "clf.fit(new_X_train, Y_train)\n",
    "print(\"訓練資料辨識率:\",np.mean(clf.predict(new_X_train) == Y_train))\n",
    "print(\"測試資料辨識率:\",np.mean(clf.predict(new_X_test) == Y_test))\n",
    "print(\"Precision:\",precision_score(Y_test, clf.predict(new_X_test), average='macro'))\n",
    "print(\"Recall:\",recall_score(Y_test, clf.predict(new_X_test), average='macro'))"
   ]
  },
  {
   "cell_type": "markdown",
   "metadata": {},
   "source": [
    "# KNN+PCA(500)"
   ]
  },
  {
   "cell_type": "code",
   "execution_count": 68,
   "metadata": {},
   "outputs": [
    {
     "name": "stdout",
     "output_type": "stream",
     "text": [
      "訓練資料辨識率: 0.9818166666666667\n",
      "測試資料辨識率: 0.9687\n",
      "Precision: 0.9691652027324155\n",
      "Recall: 0.9683690450756656\n"
     ]
    }
   ],
   "source": [
    "from sklearn.neighbors import KNeighborsClassifier\n",
    "clf = KNeighborsClassifier()\n",
    "clf.fit(new_X_train, Y_train)\n",
    "print(\"訓練資料辨識率:\",np.mean(clf.predict(new_X_train) == Y_train))\n",
    "print(\"測試資料辨識率:\",np.mean(clf.predict(new_X_test) == Y_test))\n",
    "print(\"Precision:\",precision_score(Y_test, clf.predict(new_X_test), average='macro'))\n",
    "print(\"Recall:\",recall_score(Y_test, clf.predict(new_X_test), average='macro'))"
   ]
  },
  {
   "cell_type": "markdown",
   "metadata": {},
   "source": [
    "#  DecisionTree+PCA(500)"
   ]
  },
  {
   "cell_type": "code",
   "execution_count": 69,
   "metadata": {},
   "outputs": [
    {
     "name": "stdout",
     "output_type": "stream",
     "text": [
      "訓練資料辨識率: 1.0\n",
      "測試資料辨識率: 0.82\n",
      "Precision: 0.817516082953088\n",
      "Recall: 0.8172566035471377\n"
     ]
    }
   ],
   "source": [
    "from sklearn.tree import DecisionTreeClassifier\n",
    "clf = DecisionTreeClassifier()\n",
    "clf.fit(new_X_train, Y_train)\n",
    "print(\"訓練資料辨識率:\",np.mean(clf.predict(new_X_train) == Y_train))\n",
    "print(\"測試資料辨識率:\",np.mean(clf.predict(new_X_test) == Y_test))\n",
    "print(\"Precision:\",precision_score(Y_test, clf.predict(new_X_test), average='macro'))\n",
    "print(\"Recall:\",recall_score(Y_test, clf.predict(new_X_test), average='macro'))"
   ]
  },
  {
   "cell_type": "markdown",
   "metadata": {},
   "source": [
    "# RandomForest+PCA(500)"
   ]
  },
  {
   "cell_type": "code",
   "execution_count": 70,
   "metadata": {},
   "outputs": [
    {
     "name": "stdout",
     "output_type": "stream",
     "text": [
      "訓練資料辨識率: 1.0\n",
      "測試資料辨識率: 0.923\n",
      "Precision: 0.9223327673818552\n",
      "Recall: 0.9218260741960712\n"
     ]
    }
   ],
   "source": [
    "from sklearn.ensemble import RandomForestClassifier\n",
    "clf = RandomForestClassifier()\n",
    "clf.fit(new_X_train, Y_train)\n",
    "print(\"訓練資料辨識率:\",np.mean(clf.predict(new_X_train) == Y_train))\n",
    "print(\"測試資料辨識率:\",np.mean(clf.predict(new_X_test) == Y_test))\n",
    "print(\"Precision:\",precision_score(Y_test, clf.predict(new_X_test), average='macro'))\n",
    "print(\"Recall:\",recall_score(Y_test, clf.predict(new_X_test), average='macro'))"
   ]
  }
 ],
 "metadata": {
  "kernelspec": {
   "display_name": "Python 3",
   "language": "python",
   "name": "python3"
  },
  "language_info": {
   "codemirror_mode": {
    "name": "ipython",
    "version": 3
   },
   "file_extension": ".py",
   "mimetype": "text/x-python",
   "name": "python",
   "nbconvert_exporter": "python",
   "pygments_lexer": "ipython3",
   "version": "3.7.4"
  }
 },
 "nbformat": 4,
 "nbformat_minor": 2
}
