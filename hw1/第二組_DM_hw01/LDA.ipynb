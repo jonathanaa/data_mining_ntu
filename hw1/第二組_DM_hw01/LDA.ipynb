{
 "cells": [
  {
   "cell_type": "code",
   "execution_count": 1,
   "metadata": {},
   "outputs": [],
   "source": [
    "import numpy as np\n",
    "import pandas as pd\n",
    "import matplotlib.pyplot as plt\n",
    "import seaborn as sns\n",
    "%matplotlib inline"
   ]
  },
  {
   "cell_type": "markdown",
   "metadata": {},
   "source": [
    "# 讀取mnist datasets"
   ]
  },
  {
   "cell_type": "code",
   "execution_count": 2,
   "metadata": {},
   "outputs": [],
   "source": [
    "df_train = pd.read_csv('./dataset/mnist_train.csv')\n",
    "df_test = pd.read_csv('./dataset/mnist_test.csv')"
   ]
  },
  {
   "cell_type": "markdown",
   "metadata": {},
   "source": [
    "# 查看training datasets資訊"
   ]
  },
  {
   "cell_type": "code",
   "execution_count": 3,
   "metadata": {},
   "outputs": [
    {
     "name": "stdout",
     "output_type": "stream",
     "text": [
      "<class 'pandas.core.frame.DataFrame'>\n",
      "RangeIndex: 60000 entries, 0 to 59999\n",
      "Columns: 785 entries, label to 28x28\n",
      "dtypes: int64(785)\n",
      "memory usage: 359.3 MB\n"
     ]
    }
   ],
   "source": [
    "df_train.info()"
   ]
  },
  {
   "cell_type": "markdown",
   "metadata": {},
   "source": [
    "# 查看testing datasets資訊"
   ]
  },
  {
   "cell_type": "code",
   "execution_count": 4,
   "metadata": {},
   "outputs": [
    {
     "name": "stdout",
     "output_type": "stream",
     "text": [
      "<class 'pandas.core.frame.DataFrame'>\n",
      "RangeIndex: 10000 entries, 0 to 9999\n",
      "Columns: 785 entries, label to 28x28\n",
      "dtypes: int64(785)\n",
      "memory usage: 59.9 MB\n"
     ]
    }
   ],
   "source": [
    "df_test.info()"
   ]
  },
  {
   "cell_type": "code",
   "execution_count": 5,
   "metadata": {},
   "outputs": [],
   "source": [
    "Y = df_train['label']\n",
    "X = df_train.drop('label',axis=1)\n",
    "from sklearn.model_selection import train_test_split\n",
    "X_train,X_test,Y_train,Y_test = train_test_split(X,Y,test_size=0.25,random_state=0)"
   ]
  },
  {
   "cell_type": "markdown",
   "metadata": {},
   "source": [
    "# 檢查datasets分布情況"
   ]
  },
  {
   "cell_type": "code",
   "execution_count": 6,
   "metadata": {},
   "outputs": [
    {
     "data": {
      "text/plain": [
       "<matplotlib.axes._subplots.AxesSubplot at 0x219916b36c8>"
      ]
     },
     "execution_count": 6,
     "metadata": {},
     "output_type": "execute_result"
    },
    {
     "data": {
      "image/png": "[encoded data removed]",
      "text/plain": [
       "<Figure size 432x288 with 1 Axes>"
      ]
     },
     "metadata": {
      "needs_background": "light"
     },
     "output_type": "display_data"
    }
   ],
   "source": [
    "plt.title('Distribution of mnist datasets')\n",
    "plt.xlabel('Digit')\n",
    "plt.ylabel('Frequency')\n",
    "sns.countplot(Y_train)"
   ]
  },
  {
   "cell_type": "markdown",
   "metadata": {},
   "source": [
    "# 使用SVM降維度(n_components=1~9)"
   ]
  },
  {
   "cell_type": "code",
   "execution_count": 7,
   "metadata": {},
   "outputs": [
    {
     "name": "stdout",
     "output_type": "stream",
     "text": [
      "1\n",
      "訓練資料辨識率: 0.4242888888888889\n",
      "測試資料辨識率: 0.417\n",
      "2\n",
      "訓練資料辨識率: 0.5884\n",
      "測試資料辨識率: 0.5817333333333333\n",
      "3\n",
      "訓練資料辨識率: 0.7547333333333334\n",
      "測試資料辨識率: 0.7498666666666667\n",
      "4\n",
      "訓練資料辨識率: 0.8384444444444444\n",
      "測試資料辨識率: 0.8266666666666667\n",
      "5\n",
      "訓練資料辨識率: 0.8543555555555555\n",
      "測試資料辨識率: 0.8442666666666667\n",
      "6\n",
      "訓練資料辨識率: 0.8775777777777778\n",
      "測試資料辨識率: 0.8646666666666667\n",
      "7\n",
      "訓練資料辨識率: 0.9016888888888889\n",
      "測試資料辨識率: 0.8862\n",
      "8\n",
      "訓練資料辨識率: 0.9198\n",
      "測試資料辨識率: 0.9052666666666667\n",
      "9\n",
      "訓練資料辨識率: 0.9263111111111111\n",
      "測試資料辨識率: 0.9110666666666667\n"
     ]
    }
   ],
   "source": [
    "from sklearn.discriminant_analysis import LinearDiscriminantAnalysis as LDA\n",
    "from sklearn.svm import SVC\n",
    "temp = []\n",
    "for i in range(1,10):\n",
    "    lda = LDA(n_components=i)\n",
    "    clf = lda.fit(X_train,Y_train)\n",
    "    X_test_lda = clf.transform(X_test)\n",
    "    X_training_lda=clf.transform(X_train)\n",
    "    clf = SVC()\n",
    "    clf.fit(X_training_lda, Y_train)\n",
    "    print(i)\n",
    "    print(\"訓練資料辨識率:\",np.mean(clf.predict(X_training_lda) == Y_train))\n",
    "    print(\"測試資料辨識率:\",np.mean(clf.predict(X_test_lda) == Y_test))"
   ]
  },
  {
   "cell_type": "markdown",
   "metadata": {},
   "source": [
    "# 使用KNN降維度(n_components=1~9)"
   ]
  },
  {
   "cell_type": "code",
   "execution_count": 10,
   "metadata": {},
   "outputs": [
    {
     "name": "stdout",
     "output_type": "stream",
     "text": [
      "1\n",
      "訓練資料辨識率: 0.5461333333333334\n",
      "測試資料辨識率: 0.35846666666666666\n",
      "2\n",
      "訓練資料辨識率: 0.6662222222222223\n",
      "測試資料辨識率: 0.5287333333333334\n",
      "3\n",
      "訓練資料辨識率: 0.7929333333333334\n",
      "測試資料辨識率: 0.7176666666666667\n",
      "4\n",
      "訓練資料辨識率: 0.8629333333333333\n",
      "測試資料辨識率: 0.8140666666666667\n",
      "5\n",
      "訓練資料辨識率: 0.8784\n",
      "測試資料辨識率: 0.829\n",
      "6\n",
      "訓練資料辨識率: 0.8969555555555555\n",
      "測試資料辨識率: 0.8591333333333333\n",
      "7\n",
      "訓練資料辨識率: 0.9189555555555555\n",
      "測試資料辨識率: 0.8838666666666667\n",
      "8\n",
      "訓練資料辨識率: 0.9334222222222223\n",
      "測試資料辨識率: 0.9044666666666666\n",
      "9\n",
      "訓練資料辨識率: 0.9387333333333333\n",
      "測試資料辨識率: 0.9108\n"
     ]
    }
   ],
   "source": [
    "from sklearn.neighbors import KNeighborsClassifier\n",
    "temp = []\n",
    "for i in range(1,10):\n",
    "    lda = LDA(n_components=i)\n",
    "    clf = lda.fit(X_train,Y_train)\n",
    "    X_test_lda = clf.transform(X_test)\n",
    "    X_training_lda=clf.transform(X_train)\n",
    "    clf = KNeighborsClassifier()\n",
    "    clf.fit(X_training_lda, Y_train)\n",
    "    print(i)\n",
    "    print(\"訓練資料辨識率:\",np.mean(clf.predict(X_training_lda) == Y_train))\n",
    "    print(\"測試資料辨識率:\",np.mean(clf.predict(X_test_lda) == Y_test))"
   ]
  },
  {
   "cell_type": "markdown",
   "metadata": {},
   "source": [
    "# 使用DecisionTree降維度(n_components=1~9)"
   ]
  },
  {
   "cell_type": "code",
   "execution_count": 11,
   "metadata": {},
   "outputs": [
    {
     "name": "stdout",
     "output_type": "stream",
     "text": [
      "1\n",
      "訓練資料辨識率: 0.9994222222222222\n",
      "測試資料辨識率: 0.3066\n",
      "2\n",
      "訓練資料辨識率: 1.0\n",
      "測試資料辨識率: 0.4676666666666667\n",
      "3\n",
      "訓練資料辨識率: 1.0\n",
      "測試資料辨識率: 0.6622\n",
      "4\n",
      "訓練資料辨識率: 1.0\n",
      "測試資料辨識率: 0.7562\n",
      "5\n",
      "訓練資料辨識率: 1.0\n",
      "測試資料辨識率: 0.7732\n",
      "6\n",
      "訓練資料辨識率: 1.0\n",
      "測試資料辨識率: 0.7998666666666666\n",
      "7\n",
      "訓練資料辨識率: 1.0\n",
      "測試資料辨識率: 0.8239333333333333\n",
      "8\n",
      "訓練資料辨識率: 1.0\n",
      "測試資料辨識率: 0.8436666666666667\n",
      "9\n",
      "訓練資料辨識率: 1.0\n",
      "測試資料辨識率: 0.8479333333333333\n"
     ]
    }
   ],
   "source": [
    "from sklearn.tree import DecisionTreeClassifier\n",
    "temp = []\n",
    "for i in range(1,10):\n",
    "    lda = LDA(n_components=i)\n",
    "    clf = lda.fit(X_train,Y_train)\n",
    "    X_test_lda = clf.transform(X_test)\n",
    "    X_training_lda=clf.transform(X_train)\n",
    "    clf = DecisionTreeClassifier()\n",
    "    clf.fit(X_training_lda, Y_train)\n",
    "    print(i)\n",
    "    print(\"訓練資料辨識率:\",np.mean(clf.predict(X_training_lda) == Y_train))\n",
    "    print(\"測試資料辨識率:\",np.mean(clf.predict(X_test_lda) == Y_test))"
   ]
  },
  {
   "cell_type": "markdown",
   "metadata": {},
   "source": [
    "# 使用RandomForest降維度(n_components=1~9)"
   ]
  },
  {
   "cell_type": "code",
   "execution_count": 12,
   "metadata": {},
   "outputs": [
    {
     "name": "stdout",
     "output_type": "stream",
     "text": [
      "1\n",
      "訓練資料辨識率: 0.9990888888888889\n",
      "測試資料辨識率: 0.30673333333333336\n",
      "2\n",
      "訓練資料辨識率: 0.9999777777777777\n",
      "測試資料辨識率: 0.5316\n",
      "3\n",
      "訓練資料辨識率: 0.9999555555555556\n",
      "測試資料辨識率: 0.736\n",
      "4\n",
      "訓練資料辨識率: 0.9999777777777777\n",
      "測試資料辨識率: 0.8236666666666667\n",
      "5\n",
      "訓練資料辨識率: 0.9999777777777777\n",
      "測試資料辨識率: 0.8395333333333334\n",
      "6\n",
      "訓練資料辨識率: 1.0\n",
      "測試資料辨識率: 0.8628666666666667\n",
      "7\n",
      "訓練資料辨識率: 1.0\n",
      "測試資料辨識率: 0.8832\n",
      "8\n",
      "訓練資料辨識率: 1.0\n",
      "測試資料辨識率: 0.9004\n",
      "9\n",
      "訓練資料辨識率: 0.9999777777777777\n",
      "測試資料辨識率: 0.9072\n"
     ]
    }
   ],
   "source": [
    "from sklearn.ensemble import RandomForestClassifier\n",
    "temp = []\n",
    "for i in range(1,10):\n",
    "    lda = LDA(n_components=i)\n",
    "    clf = lda.fit(X_train,Y_train)\n",
    "    X_test_lda = clf.transform(X_test)\n",
    "    X_training_lda=clf.transform(X_train)\n",
    "    clf = RandomForestClassifier()\n",
    "    clf.fit(X_training_lda, Y_train)\n",
    "    print(i)\n",
    "    print(\"訓練資料辨識率:\",np.mean(clf.predict(X_training_lda) == Y_train))\n",
    "    print(\"測試資料辨識率:\",np.mean(clf.predict(X_test_lda) == Y_test))"
   ]
  },
  {
   "cell_type": "code",
   "execution_count": 15,
   "metadata": {},
   "outputs": [
    {
     "name": "stdout",
     "output_type": "stream",
     "text": [
      "precision_score: 0.9055754878006004\n"
     ]
    }
   ],
   "source": [
    "from sklearn.metrics import precision_score\n",
    "print(\"precision_score:\",precision_score(Y_test, clf.predict(X_test_lda), average='macro'))"
   ]
  },
  {
   "cell_type": "code",
   "execution_count": 16,
   "metadata": {},
   "outputs": [
    {
     "name": "stdout",
     "output_type": "stream",
     "text": [
      "recall_score: 0.9059278271328081\n"
     ]
    }
   ],
   "source": [
    "from sklearn.metrics import recall_score\n",
    "print(\"recall_score:\",recall_score(Y_test, clf.predict(X_test_lda), average='macro'))"
   ]
  },
  {
   "cell_type": "code",
   "execution_count": null,
   "metadata": {},
   "outputs": [],
   "source": []
  }
 ],
 "metadata": {
  "kernelspec": {
   "display_name": "Python 3",
   "language": "python",
   "name": "python3"
  },
  "language_info": {
   "codemirror_mode": {
    "name": "ipython",
    "version": 3
   },
   "file_extension": ".py",
   "mimetype": "text/x-python",
   "name": "python",
   "nbconvert_exporter": "python",
   "pygments_lexer": "ipython3",
   "version": "3.7.6"
  }
 },
 "nbformat": 4,
 "nbformat_minor": 4
}
