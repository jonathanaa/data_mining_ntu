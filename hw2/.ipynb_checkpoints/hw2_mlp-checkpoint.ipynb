{
 "cells": [
  {
   "cell_type": "code",
   "execution_count": 1,
   "metadata": {},
   "outputs": [
    {
     "name": "stderr",
     "output_type": "stream",
     "text": [
      "Using TensorFlow backend.\n",
      "/home/dillon/anaconda3/lib/python3.7/site-packages/tensorflow/python/framework/dtypes.py:516: FutureWarning: Passing (type, 1) or '1type' as a synonym of type is deprecated; in a future version of numpy, it will be understood as (type, (1,)) / '(1,)type'.\n",
      "  _np_qint8 = np.dtype([(\"qint8\", np.int8, 1)])\n",
      "/home/dillon/anaconda3/lib/python3.7/site-packages/tensorflow/python/framework/dtypes.py:517: FutureWarning: Passing (type, 1) or '1type' as a synonym of type is deprecated; in a future version of numpy, it will be understood as (type, (1,)) / '(1,)type'.\n",
      "  _np_quint8 = np.dtype([(\"quint8\", np.uint8, 1)])\n",
      "/home/dillon/anaconda3/lib/python3.7/site-packages/tensorflow/python/framework/dtypes.py:518: FutureWarning: Passing (type, 1) or '1type' as a synonym of type is deprecated; in a future version of numpy, it will be understood as (type, (1,)) / '(1,)type'.\n",
      "  _np_qint16 = np.dtype([(\"qint16\", np.int16, 1)])\n",
      "/home/dillon/anaconda3/lib/python3.7/site-packages/tensorflow/python/framework/dtypes.py:519: FutureWarning: Passing (type, 1) or '1type' as a synonym of type is deprecated; in a future version of numpy, it will be understood as (type, (1,)) / '(1,)type'.\n",
      "  _np_quint16 = np.dtype([(\"quint16\", np.uint16, 1)])\n",
      "/home/dillon/anaconda3/lib/python3.7/site-packages/tensorflow/python/framework/dtypes.py:520: FutureWarning: Passing (type, 1) or '1type' as a synonym of type is deprecated; in a future version of numpy, it will be understood as (type, (1,)) / '(1,)type'.\n",
      "  _np_qint32 = np.dtype([(\"qint32\", np.int32, 1)])\n",
      "/home/dillon/anaconda3/lib/python3.7/site-packages/tensorflow/python/framework/dtypes.py:525: FutureWarning: Passing (type, 1) or '1type' as a synonym of type is deprecated; in a future version of numpy, it will be understood as (type, (1,)) / '(1,)type'.\n",
      "  np_resource = np.dtype([(\"resource\", np.ubyte, 1)])\n",
      "/home/dillon/anaconda3/lib/python3.7/site-packages/tensorboard/compat/tensorflow_stub/dtypes.py:541: FutureWarning: Passing (type, 1) or '1type' as a synonym of type is deprecated; in a future version of numpy, it will be understood as (type, (1,)) / '(1,)type'.\n",
      "  _np_qint8 = np.dtype([(\"qint8\", np.int8, 1)])\n",
      "/home/dillon/anaconda3/lib/python3.7/site-packages/tensorboard/compat/tensorflow_stub/dtypes.py:542: FutureWarning: Passing (type, 1) or '1type' as a synonym of type is deprecated; in a future version of numpy, it will be understood as (type, (1,)) / '(1,)type'.\n",
      "  _np_quint8 = np.dtype([(\"quint8\", np.uint8, 1)])\n",
      "/home/dillon/anaconda3/lib/python3.7/site-packages/tensorboard/compat/tensorflow_stub/dtypes.py:543: FutureWarning: Passing (type, 1) or '1type' as a synonym of type is deprecated; in a future version of numpy, it will be understood as (type, (1,)) / '(1,)type'.\n",
      "  _np_qint16 = np.dtype([(\"qint16\", np.int16, 1)])\n",
      "/home/dillon/anaconda3/lib/python3.7/site-packages/tensorboard/compat/tensorflow_stub/dtypes.py:544: FutureWarning: Passing (type, 1) or '1type' as a synonym of type is deprecated; in a future version of numpy, it will be understood as (type, (1,)) / '(1,)type'.\n",
      "  _np_quint16 = np.dtype([(\"quint16\", np.uint16, 1)])\n",
      "/home/dillon/anaconda3/lib/python3.7/site-packages/tensorboard/compat/tensorflow_stub/dtypes.py:545: FutureWarning: Passing (type, 1) or '1type' as a synonym of type is deprecated; in a future version of numpy, it will be understood as (type, (1,)) / '(1,)type'.\n",
      "  _np_qint32 = np.dtype([(\"qint32\", np.int32, 1)])\n",
      "/home/dillon/anaconda3/lib/python3.7/site-packages/tensorboard/compat/tensorflow_stub/dtypes.py:550: FutureWarning: Passing (type, 1) or '1type' as a synonym of type is deprecated; in a future version of numpy, it will be understood as (type, (1,)) / '(1,)type'.\n",
      "  np_resource = np.dtype([(\"resource\", np.ubyte, 1)])\n"
     ]
    }
   ],
   "source": [
    "import numpy as np\n",
    "import pandas as pd\n",
    "import matplotlib.pyplot as plt\n",
    "\n",
    "from keras.datasets import cifar10\n",
    "from keras.utils import np_utils\n",
    "\n",
    "from keras.models import Sequential \n",
    "from keras.layers import Dense,Dropout,Flatten,Conv2D,MaxPooling2D \n",
    "from keras.layers import ZeroPadding2D,Activation\n",
    "\n",
    "from sklearn.metrics import classification_report\n",
    "from keras.optimizers import Adam"
   ]
  },
  {
   "cell_type": "markdown",
   "metadata": {},
   "source": [
    "# 讀入資料集"
   ]
  },
  {
   "cell_type": "code",
   "execution_count": 2,
   "metadata": {},
   "outputs": [],
   "source": [
    "(x_train_image, y_train_label), (x_test_image, y_test_label)=cifar10.load_data()"
   ]
  },
  {
   "cell_type": "code",
   "execution_count": 3,
   "metadata": {},
   "outputs": [
    {
     "data": {
      "text/plain": [
       "(50000, 32, 32, 3)"
      ]
     },
     "execution_count": 3,
     "metadata": {},
     "output_type": "execute_result"
    }
   ],
   "source": [
    "x_train_image.shape"
   ]
  },
  {
   "cell_type": "code",
   "execution_count": 4,
   "metadata": {},
   "outputs": [
    {
     "data": {
      "text/plain": [
       "(10000, 32, 32, 3)"
      ]
     },
     "execution_count": 4,
     "metadata": {},
     "output_type": "execute_result"
    }
   ],
   "source": [
    "x_test_image.shape"
   ]
  },
  {
   "cell_type": "code",
   "execution_count": 5,
   "metadata": {},
   "outputs": [
    {
     "data": {
      "text/plain": [
       "(50000, 1)"
      ]
     },
     "execution_count": 5,
     "metadata": {},
     "output_type": "execute_result"
    }
   ],
   "source": [
    "y_train_label.shape"
   ]
  },
  {
   "cell_type": "code",
   "execution_count": 6,
   "metadata": {},
   "outputs": [
    {
     "data": {
      "text/plain": [
       "(10000, 1)"
      ]
     },
     "execution_count": 6,
     "metadata": {},
     "output_type": "execute_result"
    }
   ],
   "source": [
    "y_test_label.shape "
   ]
  },
  {
   "cell_type": "markdown",
   "metadata": {},
   "source": [
    "# 資料預處理"
   ]
  },
  {
   "cell_type": "code",
   "execution_count": 7,
   "metadata": {},
   "outputs": [],
   "source": [
    "x_train_normalize=x_train_image.astype('float32')/255.0\n",
    "x_test_normalize=x_test_image.astype('float32')/255.0"
   ]
  },
  {
   "cell_type": "code",
   "execution_count": 8,
   "metadata": {},
   "outputs": [],
   "source": [
    "y_train_onehot=np_utils.to_categorical(y_train_label)\n",
    "y_test_onehot=np_utils.to_categorical(y_test_label)"
   ]
  },
  {
   "cell_type": "code",
   "execution_count": 9,
   "metadata": {},
   "outputs": [],
   "source": [
    "x_train=x_train_normalize[:40000]\n",
    "x_valid=x_train_normalize[-10000:]\n",
    "y_train=y_train_onehot[:40000]\n",
    "y_valid=y_train_onehot[-10000:]"
   ]
  },
  {
   "cell_type": "markdown",
   "metadata": {},
   "source": [
    "# MLP模型建立"
   ]
  },
  {
   "cell_type": "markdown",
   "metadata": {},
   "source": [
    "# 訓練模型"
   ]
  },
  {
   "cell_type": "code",
   "execution_count": 10,
   "metadata": {},
   "outputs": [],
   "source": [
    "MLP_model = Sequential()\n",
    "MLP_model.add(Flatten(input_shape = (32,32,3)))\n",
    "MLP_model.add(Dense(1024, activation='relu'))\n",
    "MLP_model.add(Dense(10, activation='softmax'))\n",
    "MLP_model.compile(optimizer=Adam(lr=0.00001, beta_1=0.9, beta_2=0.999, epsilon=1e-08),loss = 'categorical_crossentropy',metrics=['accuracy'])"
   ]
  },
  {
   "cell_type": "code",
   "execution_count": 11,
   "metadata": {},
   "outputs": [
    {
     "name": "stdout",
     "output_type": "stream",
     "text": [
      "WARNING:tensorflow:From /home/dillon/anaconda3/lib/python3.7/site-packages/keras/backend/tensorflow_backend.py:422: The name tf.global_variables is deprecated. Please use tf.compat.v1.global_variables instead.\n",
      "\n",
      "Train on 40000 samples, validate on 10000 samples\n",
      "Epoch 1/30\n",
      "40000/40000 [==============================] - 2s 53us/step - loss: 2.0238 - accuracy: 0.2884 - val_loss: 1.9182 - val_accuracy: 0.3297\n",
      "Epoch 2/30\n",
      "40000/40000 [==============================] - 2s 46us/step - loss: 1.8652 - accuracy: 0.3562 - val_loss: 1.8436 - val_accuracy: 0.3585\n",
      "Epoch 3/30\n",
      "40000/40000 [==============================] - 2s 46us/step - loss: 1.8072 - accuracy: 0.3778 - val_loss: 1.8043 - val_accuracy: 0.3763\n",
      "Epoch 4/30\n",
      "40000/40000 [==============================] - 2s 45us/step - loss: 1.7693 - accuracy: 0.3911 - val_loss: 1.7784 - val_accuracy: 0.3843\n",
      "Epoch 5/30\n",
      "40000/40000 [==============================] - 2s 46us/step - loss: 1.7398 - accuracy: 0.4038 - val_loss: 1.7612 - val_accuracy: 0.3995\n",
      "Epoch 6/30\n",
      "40000/40000 [==============================] - 2s 47us/step - loss: 1.7149 - accuracy: 0.4128 - val_loss: 1.7355 - val_accuracy: 0.4056\n",
      "Epoch 7/30\n",
      "40000/40000 [==============================] - 2s 45us/step - loss: 1.6928 - accuracy: 0.4178 - val_loss: 1.7201 - val_accuracy: 0.4012\n",
      "Epoch 8/30\n",
      "40000/40000 [==============================] - 2s 45us/step - loss: 1.6739 - accuracy: 0.4254 - val_loss: 1.7070 - val_accuracy: 0.4083\n",
      "Epoch 9/30\n",
      "40000/40000 [==============================] - 2s 47us/step - loss: 1.6567 - accuracy: 0.4332 - val_loss: 1.6961 - val_accuracy: 0.4177\n",
      "Epoch 10/30\n",
      "40000/40000 [==============================] - 2s 45us/step - loss: 1.6408 - accuracy: 0.4395 - val_loss: 1.6818 - val_accuracy: 0.4195\n",
      "Epoch 11/30\n",
      "40000/40000 [==============================] - 2s 46us/step - loss: 1.6277 - accuracy: 0.4432 - val_loss: 1.6736 - val_accuracy: 0.4194\n",
      "Epoch 12/30\n",
      "40000/40000 [==============================] - 2s 46us/step - loss: 1.6134 - accuracy: 0.4478 - val_loss: 1.6605 - val_accuracy: 0.4248\n",
      "Epoch 13/30\n",
      "40000/40000 [==============================] - 2s 47us/step - loss: 1.5999 - accuracy: 0.4538 - val_loss: 1.6505 - val_accuracy: 0.4315\n",
      "Epoch 14/30\n",
      "40000/40000 [==============================] - 2s 46us/step - loss: 1.5898 - accuracy: 0.4564 - val_loss: 1.6412 - val_accuracy: 0.4378\n",
      "Epoch 15/30\n",
      "40000/40000 [==============================] - 2s 46us/step - loss: 1.5795 - accuracy: 0.4617 - val_loss: 1.6342 - val_accuracy: 0.4379\n",
      "Epoch 16/30\n",
      "40000/40000 [==============================] - 2s 46us/step - loss: 1.5691 - accuracy: 0.4654 - val_loss: 1.6265 - val_accuracy: 0.4432\n",
      "Epoch 17/30\n",
      "40000/40000 [==============================] - 2s 46us/step - loss: 1.5596 - accuracy: 0.4685 - val_loss: 1.6196 - val_accuracy: 0.4412\n",
      "Epoch 18/30\n",
      "40000/40000 [==============================] - 2s 46us/step - loss: 1.5504 - accuracy: 0.4698 - val_loss: 1.6099 - val_accuracy: 0.4401\n",
      "Epoch 19/30\n",
      "40000/40000 [==============================] - 2s 48us/step - loss: 1.5423 - accuracy: 0.4732 - val_loss: 1.6070 - val_accuracy: 0.4435\n",
      "Epoch 20/30\n",
      "40000/40000 [==============================] - 2s 46us/step - loss: 1.5338 - accuracy: 0.4772 - val_loss: 1.5973 - val_accuracy: 0.4504\n",
      "Epoch 21/30\n",
      "40000/40000 [==============================] - 2s 46us/step - loss: 1.5252 - accuracy: 0.4819 - val_loss: 1.5924 - val_accuracy: 0.4489\n",
      "Epoch 22/30\n",
      "40000/40000 [==============================] - 2s 46us/step - loss: 1.5198 - accuracy: 0.4811 - val_loss: 1.5923 - val_accuracy: 0.4517\n",
      "Epoch 23/30\n",
      "40000/40000 [==============================] - 2s 46us/step - loss: 1.5121 - accuracy: 0.4852 - val_loss: 1.5856 - val_accuracy: 0.4537\n",
      "Epoch 24/30\n",
      "40000/40000 [==============================] - 2s 45us/step - loss: 1.5039 - accuracy: 0.4898 - val_loss: 1.5786 - val_accuracy: 0.4535\n",
      "Epoch 25/30\n",
      "40000/40000 [==============================] - 2s 46us/step - loss: 1.4984 - accuracy: 0.4893 - val_loss: 1.5752 - val_accuracy: 0.4561\n",
      "Epoch 26/30\n",
      "40000/40000 [==============================] - 2s 46us/step - loss: 1.4930 - accuracy: 0.4906 - val_loss: 1.5708 - val_accuracy: 0.4568\n",
      "Epoch 27/30\n",
      "40000/40000 [==============================] - 2s 46us/step - loss: 1.4866 - accuracy: 0.4948 - val_loss: 1.5680 - val_accuracy: 0.4591\n",
      "Epoch 28/30\n",
      "40000/40000 [==============================] - 2s 46us/step - loss: 1.4807 - accuracy: 0.4963 - val_loss: 1.5605 - val_accuracy: 0.4627\n",
      "Epoch 29/30\n",
      "40000/40000 [==============================] - 2s 46us/step - loss: 1.4739 - accuracy: 0.4999 - val_loss: 1.5598 - val_accuracy: 0.4604\n",
      "Epoch 30/30\n",
      "40000/40000 [==============================] - 2s 46us/step - loss: 1.4674 - accuracy: 0.5008 - val_loss: 1.5534 - val_accuracy: 0.4620\n"
     ]
    }
   ],
   "source": [
    "train_history_mlp = MLP_model.fit(x_train,y_train,validation_data =(x_valid,y_valid),epochs = 30,batch_size = 128,verbose = 1)"
   ]
  },
  {
   "cell_type": "markdown",
   "metadata": {},
   "source": [
    "# 模型預測"
   ]
  },
  {
   "cell_type": "code",
   "execution_count": 13,
   "metadata": {},
   "outputs": [
    {
     "name": "stdout",
     "output_type": "stream",
     "text": [
      "10000/10000 [==============================] - 0s 48us/step\n",
      "Accuracy= 0.4675999879837036\n"
     ]
    }
   ],
   "source": [
    "scores=MLP_model.evaluate(x_test_normalize, y_test_onehot)\n",
    "print(\"Accuracy=\", scores[1])"
   ]
  },
  {
   "cell_type": "markdown",
   "metadata": {},
   "source": [
    "# 儲存模型"
   ]
  },
  {
   "cell_type": "code",
   "execution_count": 15,
   "metadata": {},
   "outputs": [],
   "source": [
    "MLP_model.save('my_mlp_model.h5')"
   ]
  },
  {
   "cell_type": "code",
   "execution_count": 16,
   "metadata": {},
   "outputs": [
    {
     "data": {
      "image/png": "[encoded data removed]",
      "text/plain": [
       "<Figure size 1152x432 with 2 Axes>"
      ]
     },
     "metadata": {
      "needs_background": "light"
     },
     "output_type": "display_data"
    }
   ],
   "source": [
    "def show_train_history(train_history):\n",
    "...     fig=plt.gcf()\n",
    "...     fig.set_size_inches(16, 6)\n",
    "...     plt.subplot(121)\n",
    "...     plt.plot(train_history.history[\"accuracy\"])\n",
    "...     plt.plot(train_history.history[\"val_accuracy\"])\n",
    "...     plt.title(\"Train History\")\n",
    "...     plt.xlabel(\"Epoch\")\n",
    "...     plt.ylabel(\"Accuracy\")\n",
    "...     plt.legend([\"train\", \"validation\"], loc=\"upper left\")\n",
    "...     plt.subplot(122)\n",
    "...     plt.plot(train_history.history[\"loss\"])\n",
    "...     plt.plot(train_history.history[\"val_loss\"])\n",
    "...     plt.title(\"Train History\")\n",
    "...     plt.xlabel(\"Epoch\")\n",
    "...     plt.ylabel(\"Loss\")\n",
    "...     plt.legend([\"train\", \"validation\"], loc=\"upper left\")\n",
    "...     plt.show()\n",
    "show_train_history(train_history_mlp) "
   ]
  },
  {
   "cell_type": "code",
   "execution_count": 18,
   "metadata": {},
   "outputs": [
    {
     "data": {
      "text/html": [
       "<div>\n",
       "<style scoped>\n",
       "    .dataframe tbody tr th:only-of-type {\n",
       "        vertical-align: middle;\n",
       "    }\n",
       "\n",
       "    .dataframe tbody tr th {\n",
       "        vertical-align: top;\n",
       "    }\n",
       "\n",
       "    .dataframe thead th {\n",
       "        text-align: right;\n",
       "    }\n",
       "</style>\n",
       "<table border=\"1\" class=\"dataframe\">\n",
       "  <thead>\n",
       "    <tr style=\"text-align: right;\">\n",
       "      <th>predict</th>\n",
       "      <th>0</th>\n",
       "      <th>1</th>\n",
       "      <th>2</th>\n",
       "      <th>3</th>\n",
       "      <th>4</th>\n",
       "      <th>5</th>\n",
       "      <th>6</th>\n",
       "      <th>7</th>\n",
       "      <th>8</th>\n",
       "      <th>9</th>\n",
       "    </tr>\n",
       "    <tr>\n",
       "      <th>label</th>\n",
       "      <th></th>\n",
       "      <th></th>\n",
       "      <th></th>\n",
       "      <th></th>\n",
       "      <th></th>\n",
       "      <th></th>\n",
       "      <th></th>\n",
       "      <th></th>\n",
       "      <th></th>\n",
       "      <th></th>\n",
       "    </tr>\n",
       "  </thead>\n",
       "  <tbody>\n",
       "    <tr>\n",
       "      <td>0</td>\n",
       "      <td>503</td>\n",
       "      <td>26</td>\n",
       "      <td>57</td>\n",
       "      <td>32</td>\n",
       "      <td>24</td>\n",
       "      <td>8</td>\n",
       "      <td>23</td>\n",
       "      <td>42</td>\n",
       "      <td>232</td>\n",
       "      <td>53</td>\n",
       "    </tr>\n",
       "    <tr>\n",
       "      <td>1</td>\n",
       "      <td>49</td>\n",
       "      <td>511</td>\n",
       "      <td>12</td>\n",
       "      <td>40</td>\n",
       "      <td>14</td>\n",
       "      <td>20</td>\n",
       "      <td>32</td>\n",
       "      <td>42</td>\n",
       "      <td>108</td>\n",
       "      <td>172</td>\n",
       "    </tr>\n",
       "    <tr>\n",
       "      <td>2</td>\n",
       "      <td>94</td>\n",
       "      <td>28</td>\n",
       "      <td>312</td>\n",
       "      <td>116</td>\n",
       "      <td>111</td>\n",
       "      <td>51</td>\n",
       "      <td>140</td>\n",
       "      <td>75</td>\n",
       "      <td>56</td>\n",
       "      <td>17</td>\n",
       "    </tr>\n",
       "    <tr>\n",
       "      <td>3</td>\n",
       "      <td>32</td>\n",
       "      <td>24</td>\n",
       "      <td>78</td>\n",
       "      <td>416</td>\n",
       "      <td>45</td>\n",
       "      <td>98</td>\n",
       "      <td>120</td>\n",
       "      <td>70</td>\n",
       "      <td>49</td>\n",
       "      <td>68</td>\n",
       "    </tr>\n",
       "    <tr>\n",
       "      <td>4</td>\n",
       "      <td>57</td>\n",
       "      <td>16</td>\n",
       "      <td>140</td>\n",
       "      <td>84</td>\n",
       "      <td>358</td>\n",
       "      <td>31</td>\n",
       "      <td>143</td>\n",
       "      <td>106</td>\n",
       "      <td>43</td>\n",
       "      <td>22</td>\n",
       "    </tr>\n",
       "    <tr>\n",
       "      <td>5</td>\n",
       "      <td>23</td>\n",
       "      <td>20</td>\n",
       "      <td>84</td>\n",
       "      <td>284</td>\n",
       "      <td>74</td>\n",
       "      <td>245</td>\n",
       "      <td>96</td>\n",
       "      <td>89</td>\n",
       "      <td>52</td>\n",
       "      <td>33</td>\n",
       "    </tr>\n",
       "    <tr>\n",
       "      <td>6</td>\n",
       "      <td>14</td>\n",
       "      <td>19</td>\n",
       "      <td>59</td>\n",
       "      <td>120</td>\n",
       "      <td>95</td>\n",
       "      <td>32</td>\n",
       "      <td>569</td>\n",
       "      <td>43</td>\n",
       "      <td>29</td>\n",
       "      <td>20</td>\n",
       "    </tr>\n",
       "    <tr>\n",
       "      <td>7</td>\n",
       "      <td>39</td>\n",
       "      <td>27</td>\n",
       "      <td>44</td>\n",
       "      <td>94</td>\n",
       "      <td>71</td>\n",
       "      <td>38</td>\n",
       "      <td>45</td>\n",
       "      <td>535</td>\n",
       "      <td>32</td>\n",
       "      <td>75</td>\n",
       "    </tr>\n",
       "    <tr>\n",
       "      <td>8</td>\n",
       "      <td>86</td>\n",
       "      <td>52</td>\n",
       "      <td>12</td>\n",
       "      <td>39</td>\n",
       "      <td>20</td>\n",
       "      <td>11</td>\n",
       "      <td>10</td>\n",
       "      <td>19</td>\n",
       "      <td>692</td>\n",
       "      <td>59</td>\n",
       "    </tr>\n",
       "    <tr>\n",
       "      <td>9</td>\n",
       "      <td>46</td>\n",
       "      <td>145</td>\n",
       "      <td>7</td>\n",
       "      <td>50</td>\n",
       "      <td>14</td>\n",
       "      <td>16</td>\n",
       "      <td>36</td>\n",
       "      <td>49</td>\n",
       "      <td>102</td>\n",
       "      <td>535</td>\n",
       "    </tr>\n",
       "  </tbody>\n",
       "</table>\n",
       "</div>"
      ],
      "text/plain": [
       "predict    0    1    2    3    4    5    6    7    8    9\n",
       "label                                                    \n",
       "0        503   26   57   32   24    8   23   42  232   53\n",
       "1         49  511   12   40   14   20   32   42  108  172\n",
       "2         94   28  312  116  111   51  140   75   56   17\n",
       "3         32   24   78  416   45   98  120   70   49   68\n",
       "4         57   16  140   84  358   31  143  106   43   22\n",
       "5         23   20   84  284   74  245   96   89   52   33\n",
       "6         14   19   59  120   95   32  569   43   29   20\n",
       "7         39   27   44   94   71   38   45  535   32   75\n",
       "8         86   52   12   39   20   11   10   19  692   59\n",
       "9         46  145    7   50   14   16   36   49  102  535"
      ]
     },
     "execution_count": 18,
     "metadata": {},
     "output_type": "execute_result"
    }
   ],
   "source": [
    "prediction=MLP_model.predict_classes(x_test_normalize)\n",
    "pd.crosstab(y_test_label.reshape(-1), prediction, rownames=['label'],colnames=['predict'])"
   ]
  },
  {
   "cell_type": "code",
   "execution_count": 19,
   "metadata": {},
   "outputs": [
    {
     "name": "stdout",
     "output_type": "stream",
     "text": [
      "              precision    recall  f1-score   support\n",
      "\n",
      "           0       0.53      0.50      0.52      1000\n",
      "           1       0.59      0.51      0.55      1000\n",
      "           2       0.39      0.31      0.35      1000\n",
      "           3       0.33      0.42      0.37      1000\n",
      "           4       0.43      0.36      0.39      1000\n",
      "           5       0.45      0.24      0.32      1000\n",
      "           6       0.47      0.57      0.51      1000\n",
      "           7       0.50      0.54      0.52      1000\n",
      "           8       0.50      0.69      0.58      1000\n",
      "           9       0.51      0.54      0.52      1000\n",
      "\n",
      "    accuracy                           0.47     10000\n",
      "   macro avg       0.47      0.47      0.46     10000\n",
      "weighted avg       0.47      0.47      0.46     10000\n",
      "\n"
     ]
    }
   ],
   "source": [
    "print(classification_report(y_test_label, prediction))"
   ]
  },
  {
   "cell_type": "code",
   "execution_count": null,
   "metadata": {},
   "outputs": [],
   "source": []
  }
 ],
 "metadata": {
  "kernelspec": {
   "display_name": "Python 3",
   "language": "python",
   "name": "python3"
  },
  "language_info": {
   "codemirror_mode": {
    "name": "ipython",
    "version": 3
   },
   "file_extension": ".py",
   "mimetype": "text/x-python",
   "name": "python",
   "nbconvert_exporter": "python",
   "pygments_lexer": "ipython3",
   "version": "3.7.4"
  }
 },
 "nbformat": 4,
 "nbformat_minor": 2
}
