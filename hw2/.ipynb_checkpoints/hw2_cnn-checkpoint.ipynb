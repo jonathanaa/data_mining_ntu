{
 "cells": [
  {
   "cell_type": "code",
   "execution_count": 1,
   "metadata": {},
   "outputs": [
    {
     "name": "stderr",
     "output_type": "stream",
     "text": [
      "Using TensorFlow backend.\n",
      "/home/dillon/anaconda3/lib/python3.7/site-packages/tensorflow/python/framework/dtypes.py:516: FutureWarning: Passing (type, 1) or '1type' as a synonym of type is deprecated; in a future version of numpy, it will be understood as (type, (1,)) / '(1,)type'.\n",
      "  _np_qint8 = np.dtype([(\"qint8\", np.int8, 1)])\n",
      "/home/dillon/anaconda3/lib/python3.7/site-packages/tensorflow/python/framework/dtypes.py:517: FutureWarning: Passing (type, 1) or '1type' as a synonym of type is deprecated; in a future version of numpy, it will be understood as (type, (1,)) / '(1,)type'.\n",
      "  _np_quint8 = np.dtype([(\"quint8\", np.uint8, 1)])\n",
      "/home/dillon/anaconda3/lib/python3.7/site-packages/tensorflow/python/framework/dtypes.py:518: FutureWarning: Passing (type, 1) or '1type' as a synonym of type is deprecated; in a future version of numpy, it will be understood as (type, (1,)) / '(1,)type'.\n",
      "  _np_qint16 = np.dtype([(\"qint16\", np.int16, 1)])\n",
      "/home/dillon/anaconda3/lib/python3.7/site-packages/tensorflow/python/framework/dtypes.py:519: FutureWarning: Passing (type, 1) or '1type' as a synonym of type is deprecated; in a future version of numpy, it will be understood as (type, (1,)) / '(1,)type'.\n",
      "  _np_quint16 = np.dtype([(\"quint16\", np.uint16, 1)])\n",
      "/home/dillon/anaconda3/lib/python3.7/site-packages/tensorflow/python/framework/dtypes.py:520: FutureWarning: Passing (type, 1) or '1type' as a synonym of type is deprecated; in a future version of numpy, it will be understood as (type, (1,)) / '(1,)type'.\n",
      "  _np_qint32 = np.dtype([(\"qint32\", np.int32, 1)])\n",
      "/home/dillon/anaconda3/lib/python3.7/site-packages/tensorflow/python/framework/dtypes.py:525: FutureWarning: Passing (type, 1) or '1type' as a synonym of type is deprecated; in a future version of numpy, it will be understood as (type, (1,)) / '(1,)type'.\n",
      "  np_resource = np.dtype([(\"resource\", np.ubyte, 1)])\n",
      "/home/dillon/anaconda3/lib/python3.7/site-packages/tensorboard/compat/tensorflow_stub/dtypes.py:541: FutureWarning: Passing (type, 1) or '1type' as a synonym of type is deprecated; in a future version of numpy, it will be understood as (type, (1,)) / '(1,)type'.\n",
      "  _np_qint8 = np.dtype([(\"qint8\", np.int8, 1)])\n",
      "/home/dillon/anaconda3/lib/python3.7/site-packages/tensorboard/compat/tensorflow_stub/dtypes.py:542: FutureWarning: Passing (type, 1) or '1type' as a synonym of type is deprecated; in a future version of numpy, it will be understood as (type, (1,)) / '(1,)type'.\n",
      "  _np_quint8 = np.dtype([(\"quint8\", np.uint8, 1)])\n",
      "/home/dillon/anaconda3/lib/python3.7/site-packages/tensorboard/compat/tensorflow_stub/dtypes.py:543: FutureWarning: Passing (type, 1) or '1type' as a synonym of type is deprecated; in a future version of numpy, it will be understood as (type, (1,)) / '(1,)type'.\n",
      "  _np_qint16 = np.dtype([(\"qint16\", np.int16, 1)])\n",
      "/home/dillon/anaconda3/lib/python3.7/site-packages/tensorboard/compat/tensorflow_stub/dtypes.py:544: FutureWarning: Passing (type, 1) or '1type' as a synonym of type is deprecated; in a future version of numpy, it will be understood as (type, (1,)) / '(1,)type'.\n",
      "  _np_quint16 = np.dtype([(\"quint16\", np.uint16, 1)])\n",
      "/home/dillon/anaconda3/lib/python3.7/site-packages/tensorboard/compat/tensorflow_stub/dtypes.py:545: FutureWarning: Passing (type, 1) or '1type' as a synonym of type is deprecated; in a future version of numpy, it will be understood as (type, (1,)) / '(1,)type'.\n",
      "  _np_qint32 = np.dtype([(\"qint32\", np.int32, 1)])\n",
      "/home/dillon/anaconda3/lib/python3.7/site-packages/tensorboard/compat/tensorflow_stub/dtypes.py:550: FutureWarning: Passing (type, 1) or '1type' as a synonym of type is deprecated; in a future version of numpy, it will be understood as (type, (1,)) / '(1,)type'.\n",
      "  np_resource = np.dtype([(\"resource\", np.ubyte, 1)])\n"
     ]
    }
   ],
   "source": [
    "import numpy as np\n",
    "import pandas as pd\n",
    "import matplotlib.pyplot as plt\n",
    "\n",
    "from keras.datasets import cifar10\n",
    "from keras.utils import np_utils\n",
    "\n",
    "from keras.models import Sequential \n",
    "from keras.layers import Dense,Dropout,Flatten,Conv2D,MaxPooling2D \n",
    "from keras.layers import ZeroPadding2D,Activation\n",
    "\n",
    "from sklearn.metrics import classification_report"
   ]
  },
  {
   "cell_type": "markdown",
   "metadata": {},
   "source": [
    "# 讀入資料集"
   ]
  },
  {
   "cell_type": "code",
   "execution_count": 2,
   "metadata": {},
   "outputs": [],
   "source": [
    "(x_train_image, y_train_label), (x_test_image, y_test_label)=cifar10.load_data()"
   ]
  },
  {
   "cell_type": "code",
   "execution_count": 3,
   "metadata": {},
   "outputs": [
    {
     "data": {
      "text/plain": [
       "(50000, 32, 32, 3)"
      ]
     },
     "execution_count": 3,
     "metadata": {},
     "output_type": "execute_result"
    }
   ],
   "source": [
    "x_train_image.shape"
   ]
  },
  {
   "cell_type": "code",
   "execution_count": 4,
   "metadata": {},
   "outputs": [
    {
     "data": {
      "text/plain": [
       "(10000, 32, 32, 3)"
      ]
     },
     "execution_count": 4,
     "metadata": {},
     "output_type": "execute_result"
    }
   ],
   "source": [
    "x_test_image.shape"
   ]
  },
  {
   "cell_type": "code",
   "execution_count": 5,
   "metadata": {},
   "outputs": [
    {
     "data": {
      "text/plain": [
       "(50000, 1)"
      ]
     },
     "execution_count": 5,
     "metadata": {},
     "output_type": "execute_result"
    }
   ],
   "source": [
    "y_train_label.shape"
   ]
  },
  {
   "cell_type": "code",
   "execution_count": 6,
   "metadata": {},
   "outputs": [
    {
     "data": {
      "text/plain": [
       "(10000, 1)"
      ]
     },
     "execution_count": 6,
     "metadata": {},
     "output_type": "execute_result"
    }
   ],
   "source": [
    "y_test_label.shape "
   ]
  },
  {
   "cell_type": "markdown",
   "metadata": {},
   "source": [
    "# 資料預處理"
   ]
  },
  {
   "cell_type": "code",
   "execution_count": 7,
   "metadata": {},
   "outputs": [],
   "source": [
    "x_train_normalize=x_train_image.astype('float32')/255.0\n",
    "x_test_normalize=x_test_image.astype('float32')/255.0"
   ]
  },
  {
   "cell_type": "code",
   "execution_count": 8,
   "metadata": {},
   "outputs": [],
   "source": [
    "y_train_onehot=np_utils.to_categorical(y_train_label)\n",
    "y_test_onehot=np_utils.to_categorical(y_test_label)"
   ]
  },
  {
   "cell_type": "code",
   "execution_count": 9,
   "metadata": {},
   "outputs": [],
   "source": [
    "x_train=x_train_normalize[:40000]\n",
    "x_valid=x_train_normalize[-10000:]\n",
    "y_train=y_train_onehot[:40000]\n",
    "y_valid=y_train_onehot[-10000:]"
   ]
  },
  {
   "cell_type": "markdown",
   "metadata": {},
   "source": [
    "# CNN模型建立\n",
    "# 建立兩層卷積 (丟棄 25% 神經元) + 池化層"
   ]
  },
  {
   "cell_type": "code",
   "execution_count": 10,
   "metadata": {},
   "outputs": [
    {
     "name": "stdout",
     "output_type": "stream",
     "text": [
      "WARNING:tensorflow:From /home/dillon/anaconda3/lib/python3.7/site-packages/keras/backend/tensorflow_backend.py:4070: The name tf.nn.max_pool is deprecated. Please use tf.nn.max_pool2d instead.\n",
      "\n",
      "Model: \"sequential_1\"\n",
      "_________________________________________________________________\n",
      "Layer (type)                 Output Shape              Param #   \n",
      "=================================================================\n",
      "conv2d_1 (Conv2D)            (None, 32, 32, 32)        896       \n",
      "_________________________________________________________________\n",
      "dropout_1 (Dropout)          (None, 32, 32, 32)        0         \n",
      "_________________________________________________________________\n",
      "max_pooling2d_1 (MaxPooling2 (None, 16, 16, 32)        0         \n",
      "_________________________________________________________________\n",
      "conv2d_2 (Conv2D)            (None, 16, 16, 64)        18496     \n",
      "_________________________________________________________________\n",
      "dropout_2 (Dropout)          (None, 16, 16, 64)        0         \n",
      "_________________________________________________________________\n",
      "max_pooling2d_2 (MaxPooling2 (None, 8, 8, 64)          0         \n",
      "_________________________________________________________________\n",
      "flatten_1 (Flatten)          (None, 4096)              0         \n",
      "_________________________________________________________________\n",
      "dropout_3 (Dropout)          (None, 4096)              0         \n",
      "_________________________________________________________________\n",
      "dense_1 (Dense)              (None, 1024)              4195328   \n",
      "_________________________________________________________________\n",
      "dropout_4 (Dropout)          (None, 1024)              0         \n",
      "_________________________________________________________________\n",
      "dense_2 (Dense)              (None, 10)                10250     \n",
      "=================================================================\n",
      "Total params: 4,224,970\n",
      "Trainable params: 4,224,970\n",
      "Non-trainable params: 0\n",
      "_________________________________________________________________\n"
     ]
    }
   ],
   "source": [
    "model=Sequential()\n",
    "model.add(Conv2D(filters=32,kernel_size=(3,3),padding='same', input_shape=(32,32,3), activation='relu')) \n",
    "model.add(Dropout(0.25)) \n",
    "model.add(MaxPooling2D(pool_size=(2, 2))) \n",
    "model.add(Conv2D(filters=64,kernel_size=(3,3),padding='same',activation='relu'))\n",
    "model.add(Dropout(0.25)) \n",
    "model.add(MaxPooling2D(pool_size=(2, 2)))\n",
    "model.add(Flatten())\n",
    "model.add(Dropout(0.25))   \n",
    "model.add(Dense(1024,activation='relu')) \n",
    "model.add(Dropout(0.25)) \n",
    "model.add(Dense(10,activation='softmax')) \n",
    "model.summary()"
   ]
  },
  {
   "cell_type": "markdown",
   "metadata": {},
   "source": [
    "# 訓練模型"
   ]
  },
  {
   "cell_type": "code",
   "execution_count": 11,
   "metadata": {},
   "outputs": [
    {
     "name": "stdout",
     "output_type": "stream",
     "text": [
      "WARNING:tensorflow:From /home/dillon/anaconda3/lib/python3.7/site-packages/keras/backend/tensorflow_backend.py:422: The name tf.global_variables is deprecated. Please use tf.compat.v1.global_variables instead.\n",
      "\n",
      "Train on 40000 samples, validate on 10000 samples\n",
      "Epoch 1/30\n",
      "40000/40000 [==============================] - 6s 138us/step - loss: 1.5229 - accuracy: 0.4530 - val_loss: 1.3107 - val_accuracy: 0.5621\n",
      "Epoch 2/30\n",
      "40000/40000 [==============================] - 4s 106us/step - loss: 1.1665 - accuracy: 0.5859 - val_loss: 1.1772 - val_accuracy: 0.6113\n",
      "Epoch 3/30\n",
      "40000/40000 [==============================] - 4s 106us/step - loss: 1.0153 - accuracy: 0.6415 - val_loss: 1.0568 - val_accuracy: 0.6556\n",
      "Epoch 4/30\n",
      "40000/40000 [==============================] - 4s 108us/step - loss: 0.9030 - accuracy: 0.6826 - val_loss: 0.9967 - val_accuracy: 0.6665\n",
      "Epoch 5/30\n",
      "40000/40000 [==============================] - 4s 109us/step - loss: 0.8250 - accuracy: 0.7103 - val_loss: 0.8944 - val_accuracy: 0.7045\n",
      "Epoch 6/30\n",
      "40000/40000 [==============================] - 4s 107us/step - loss: 0.7419 - accuracy: 0.7378 - val_loss: 0.9173 - val_accuracy: 0.7026\n",
      "Epoch 7/30\n",
      "40000/40000 [==============================] - 5s 114us/step - loss: 0.6684 - accuracy: 0.7667 - val_loss: 0.8214 - val_accuracy: 0.7258\n",
      "Epoch 8/30\n",
      "40000/40000 [==============================] - 5s 115us/step - loss: 0.5963 - accuracy: 0.7882 - val_loss: 0.7885 - val_accuracy: 0.7339\n",
      "Epoch 9/30\n",
      "40000/40000 [==============================] - 4s 111us/step - loss: 0.5334 - accuracy: 0.8100 - val_loss: 0.7797 - val_accuracy: 0.7353\n",
      "Epoch 10/30\n",
      "40000/40000 [==============================] - 4s 108us/step - loss: 0.4733 - accuracy: 0.8348 - val_loss: 0.7823 - val_accuracy: 0.7328\n",
      "Epoch 11/30\n",
      "40000/40000 [==============================] - 4s 112us/step - loss: 0.4122 - accuracy: 0.8543 - val_loss: 0.7702 - val_accuracy: 0.7356\n",
      "Epoch 12/30\n",
      "40000/40000 [==============================] - 4s 109us/step - loss: 0.3724 - accuracy: 0.8694 - val_loss: 0.7529 - val_accuracy: 0.7429\n",
      "Epoch 13/30\n",
      "40000/40000 [==============================] - 5s 115us/step - loss: 0.3352 - accuracy: 0.8826 - val_loss: 0.7836 - val_accuracy: 0.7343\n",
      "Epoch 14/30\n",
      "40000/40000 [==============================] - 4s 107us/step - loss: 0.2989 - accuracy: 0.8958 - val_loss: 0.7604 - val_accuracy: 0.7422\n",
      "Epoch 15/30\n",
      "40000/40000 [==============================] - 4s 105us/step - loss: 0.2697 - accuracy: 0.9054 - val_loss: 0.7757 - val_accuracy: 0.7427\n",
      "Epoch 16/30\n",
      "40000/40000 [==============================] - 4s 104us/step - loss: 0.2448 - accuracy: 0.9156 - val_loss: 0.7950 - val_accuracy: 0.7378\n",
      "Epoch 17/30\n",
      "40000/40000 [==============================] - 4s 109us/step - loss: 0.2273 - accuracy: 0.9205 - val_loss: 0.8038 - val_accuracy: 0.7349\n",
      "Epoch 18/30\n",
      "40000/40000 [==============================] - 4s 106us/step - loss: 0.2168 - accuracy: 0.9247 - val_loss: 0.8056 - val_accuracy: 0.7385\n",
      "Epoch 19/30\n",
      "40000/40000 [==============================] - 4s 106us/step - loss: 0.1954 - accuracy: 0.9325 - val_loss: 0.7873 - val_accuracy: 0.7478\n",
      "Epoch 20/30\n",
      "40000/40000 [==============================] - 4s 104us/step - loss: 0.1847 - accuracy: 0.9348 - val_loss: 0.8064 - val_accuracy: 0.7456\n",
      "Epoch 21/30\n",
      "40000/40000 [==============================] - 4s 104us/step - loss: 0.1757 - accuracy: 0.9399 - val_loss: 0.8212 - val_accuracy: 0.7434\n",
      "Epoch 22/30\n",
      "40000/40000 [==============================] - 4s 106us/step - loss: 0.1618 - accuracy: 0.9458 - val_loss: 0.8336 - val_accuracy: 0.7373\n",
      "Epoch 23/30\n",
      "40000/40000 [==============================] - 4s 105us/step - loss: 0.1568 - accuracy: 0.9464 - val_loss: 0.8379 - val_accuracy: 0.7389\n",
      "Epoch 24/30\n",
      "40000/40000 [==============================] - 4s 105us/step - loss: 0.1365 - accuracy: 0.9527 - val_loss: 0.8760 - val_accuracy: 0.7392\n",
      "Epoch 25/30\n",
      "40000/40000 [==============================] - 4s 105us/step - loss: 0.1493 - accuracy: 0.9485 - val_loss: 0.8509 - val_accuracy: 0.7465\n",
      "Epoch 26/30\n",
      "40000/40000 [==============================] - 4s 105us/step - loss: 0.1332 - accuracy: 0.9549 - val_loss: 0.8481 - val_accuracy: 0.7454\n",
      "Epoch 27/30\n",
      "40000/40000 [==============================] - 4s 105us/step - loss: 0.1293 - accuracy: 0.9547 - val_loss: 0.8508 - val_accuracy: 0.7439\n",
      "Epoch 28/30\n",
      "40000/40000 [==============================] - 4s 103us/step - loss: 0.1232 - accuracy: 0.9588 - val_loss: 0.9398 - val_accuracy: 0.7361\n",
      "Epoch 29/30\n",
      "40000/40000 [==============================] - 4s 108us/step - loss: 0.1197 - accuracy: 0.9585 - val_loss: 0.9286 - val_accuracy: 0.7362\n",
      "Epoch 30/30\n",
      "40000/40000 [==============================] - 4s 104us/step - loss: 0.1284 - accuracy: 0.9565 - val_loss: 0.8743 - val_accuracy: 0.7361\n"
     ]
    }
   ],
   "source": [
    "model.compile(loss='categorical_crossentropy',optimizer='adam',metrics=['accuracy'])\n",
    "my_cnn_model=model.fit(x=x_train, y=y_train, validation_data=(x_valid,y_valid), epochs=30, batch_size=128,verbose=1)"
   ]
  },
  {
   "cell_type": "markdown",
   "metadata": {},
   "source": [
    "# 模型預測"
   ]
  },
  {
   "cell_type": "code",
   "execution_count": 12,
   "metadata": {},
   "outputs": [
    {
     "name": "stdout",
     "output_type": "stream",
     "text": [
      "10000/10000 [==============================] - 1s 59us/step\n",
      "Accuracy= 0.7350000143051147\n"
     ]
    }
   ],
   "source": [
    "scores=model.evaluate(x_test_normalize, y_test_onehot)\n",
    "print(\"Accuracy=\", scores[1])"
   ]
  },
  {
   "cell_type": "markdown",
   "metadata": {},
   "source": [
    "# 儲存模型"
   ]
  },
  {
   "cell_type": "code",
   "execution_count": 13,
   "metadata": {},
   "outputs": [],
   "source": [
    "model.save('my_cnn_model.h5')"
   ]
  },
  {
   "cell_type": "code",
   "execution_count": 14,
   "metadata": {},
   "outputs": [
    {
     "data": {
      "image/png": "[encoded data removed]",
      "text/plain": [
       "<Figure size 1152x432 with 2 Axes>"
      ]
     },
     "metadata": {
      "needs_background": "light"
     },
     "output_type": "display_data"
    }
   ],
   "source": [
    "def show_train_history(train_history):\n",
    "...     fig=plt.gcf()\n",
    "...     fig.set_size_inches(16, 6)\n",
    "...     plt.subplot(121)\n",
    "...     plt.plot(train_history.history[\"accuracy\"])\n",
    "...     plt.plot(train_history.history[\"val_accuracy\"])\n",
    "...     plt.title(\"Train History\")\n",
    "...     plt.xlabel(\"Epoch\")\n",
    "...     plt.ylabel(\"Accuracy\")\n",
    "...     plt.legend([\"train\", \"validation\"], loc=\"upper left\")\n",
    "...     plt.subplot(122)\n",
    "...     plt.plot(train_history.history[\"loss\"])\n",
    "...     plt.plot(train_history.history[\"val_loss\"])\n",
    "...     plt.title(\"Train History\")\n",
    "...     plt.xlabel(\"Epoch\")\n",
    "...     plt.ylabel(\"Loss\")\n",
    "...     plt.legend([\"train\", \"validation\"], loc=\"upper left\")\n",
    "...     plt.show()\n",
    "show_train_history(my_cnn_model) "
   ]
  },
  {
   "cell_type": "code",
   "execution_count": 15,
   "metadata": {},
   "outputs": [
    {
     "data": {
      "text/html": [
       "<div>\n",
       "<style scoped>\n",
       "    .dataframe tbody tr th:only-of-type {\n",
       "        vertical-align: middle;\n",
       "    }\n",
       "\n",
       "    .dataframe tbody tr th {\n",
       "        vertical-align: top;\n",
       "    }\n",
       "\n",
       "    .dataframe thead th {\n",
       "        text-align: right;\n",
       "    }\n",
       "</style>\n",
       "<table border=\"1\" class=\"dataframe\">\n",
       "  <thead>\n",
       "    <tr style=\"text-align: right;\">\n",
       "      <th>predict</th>\n",
       "      <th>0</th>\n",
       "      <th>1</th>\n",
       "      <th>2</th>\n",
       "      <th>3</th>\n",
       "      <th>4</th>\n",
       "      <th>5</th>\n",
       "      <th>6</th>\n",
       "      <th>7</th>\n",
       "      <th>8</th>\n",
       "      <th>9</th>\n",
       "    </tr>\n",
       "    <tr>\n",
       "      <th>label</th>\n",
       "      <th></th>\n",
       "      <th></th>\n",
       "      <th></th>\n",
       "      <th></th>\n",
       "      <th></th>\n",
       "      <th></th>\n",
       "      <th></th>\n",
       "      <th></th>\n",
       "      <th></th>\n",
       "      <th></th>\n",
       "    </tr>\n",
       "  </thead>\n",
       "  <tbody>\n",
       "    <tr>\n",
       "      <td>0</td>\n",
       "      <td>786</td>\n",
       "      <td>14</td>\n",
       "      <td>52</td>\n",
       "      <td>18</td>\n",
       "      <td>22</td>\n",
       "      <td>8</td>\n",
       "      <td>4</td>\n",
       "      <td>17</td>\n",
       "      <td>48</td>\n",
       "      <td>31</td>\n",
       "    </tr>\n",
       "    <tr>\n",
       "      <td>1</td>\n",
       "      <td>19</td>\n",
       "      <td>845</td>\n",
       "      <td>6</td>\n",
       "      <td>12</td>\n",
       "      <td>3</td>\n",
       "      <td>5</td>\n",
       "      <td>5</td>\n",
       "      <td>4</td>\n",
       "      <td>21</td>\n",
       "      <td>80</td>\n",
       "    </tr>\n",
       "    <tr>\n",
       "      <td>2</td>\n",
       "      <td>57</td>\n",
       "      <td>3</td>\n",
       "      <td>664</td>\n",
       "      <td>51</td>\n",
       "      <td>97</td>\n",
       "      <td>46</td>\n",
       "      <td>39</td>\n",
       "      <td>31</td>\n",
       "      <td>4</td>\n",
       "      <td>8</td>\n",
       "    </tr>\n",
       "    <tr>\n",
       "      <td>3</td>\n",
       "      <td>28</td>\n",
       "      <td>6</td>\n",
       "      <td>78</td>\n",
       "      <td>565</td>\n",
       "      <td>55</td>\n",
       "      <td>158</td>\n",
       "      <td>58</td>\n",
       "      <td>38</td>\n",
       "      <td>4</td>\n",
       "      <td>10</td>\n",
       "    </tr>\n",
       "    <tr>\n",
       "      <td>4</td>\n",
       "      <td>21</td>\n",
       "      <td>3</td>\n",
       "      <td>69</td>\n",
       "      <td>65</td>\n",
       "      <td>697</td>\n",
       "      <td>38</td>\n",
       "      <td>31</td>\n",
       "      <td>68</td>\n",
       "      <td>7</td>\n",
       "      <td>1</td>\n",
       "    </tr>\n",
       "    <tr>\n",
       "      <td>5</td>\n",
       "      <td>11</td>\n",
       "      <td>2</td>\n",
       "      <td>55</td>\n",
       "      <td>197</td>\n",
       "      <td>48</td>\n",
       "      <td>602</td>\n",
       "      <td>21</td>\n",
       "      <td>56</td>\n",
       "      <td>4</td>\n",
       "      <td>4</td>\n",
       "    </tr>\n",
       "    <tr>\n",
       "      <td>6</td>\n",
       "      <td>5</td>\n",
       "      <td>6</td>\n",
       "      <td>58</td>\n",
       "      <td>67</td>\n",
       "      <td>42</td>\n",
       "      <td>25</td>\n",
       "      <td>782</td>\n",
       "      <td>11</td>\n",
       "      <td>1</td>\n",
       "      <td>3</td>\n",
       "    </tr>\n",
       "    <tr>\n",
       "      <td>7</td>\n",
       "      <td>11</td>\n",
       "      <td>3</td>\n",
       "      <td>24</td>\n",
       "      <td>42</td>\n",
       "      <td>57</td>\n",
       "      <td>42</td>\n",
       "      <td>3</td>\n",
       "      <td>812</td>\n",
       "      <td>1</td>\n",
       "      <td>5</td>\n",
       "    </tr>\n",
       "    <tr>\n",
       "      <td>8</td>\n",
       "      <td>59</td>\n",
       "      <td>35</td>\n",
       "      <td>19</td>\n",
       "      <td>19</td>\n",
       "      <td>12</td>\n",
       "      <td>8</td>\n",
       "      <td>11</td>\n",
       "      <td>6</td>\n",
       "      <td>806</td>\n",
       "      <td>25</td>\n",
       "    </tr>\n",
       "    <tr>\n",
       "      <td>9</td>\n",
       "      <td>32</td>\n",
       "      <td>79</td>\n",
       "      <td>14</td>\n",
       "      <td>14</td>\n",
       "      <td>3</td>\n",
       "      <td>7</td>\n",
       "      <td>8</td>\n",
       "      <td>30</td>\n",
       "      <td>22</td>\n",
       "      <td>791</td>\n",
       "    </tr>\n",
       "  </tbody>\n",
       "</table>\n",
       "</div>"
      ],
      "text/plain": [
       "predict    0    1    2    3    4    5    6    7    8    9\n",
       "label                                                    \n",
       "0        786   14   52   18   22    8    4   17   48   31\n",
       "1         19  845    6   12    3    5    5    4   21   80\n",
       "2         57    3  664   51   97   46   39   31    4    8\n",
       "3         28    6   78  565   55  158   58   38    4   10\n",
       "4         21    3   69   65  697   38   31   68    7    1\n",
       "5         11    2   55  197   48  602   21   56    4    4\n",
       "6          5    6   58   67   42   25  782   11    1    3\n",
       "7         11    3   24   42   57   42    3  812    1    5\n",
       "8         59   35   19   19   12    8   11    6  806   25\n",
       "9         32   79   14   14    3    7    8   30   22  791"
      ]
     },
     "execution_count": 15,
     "metadata": {},
     "output_type": "execute_result"
    }
   ],
   "source": [
    "prediction=model.predict_classes(x_test_normalize)\n",
    "pd.crosstab(y_test_label.reshape(-1), prediction, rownames=['label'],colnames=['predict'])"
   ]
  },
  {
   "cell_type": "code",
   "execution_count": 16,
   "metadata": {},
   "outputs": [
    {
     "name": "stdout",
     "output_type": "stream",
     "text": [
      "              precision    recall  f1-score   support\n",
      "\n",
      "           0       0.76      0.79      0.77      1000\n",
      "           1       0.85      0.84      0.85      1000\n",
      "           2       0.64      0.66      0.65      1000\n",
      "           3       0.54      0.56      0.55      1000\n",
      "           4       0.67      0.70      0.68      1000\n",
      "           5       0.64      0.60      0.62      1000\n",
      "           6       0.81      0.78      0.80      1000\n",
      "           7       0.76      0.81      0.78      1000\n",
      "           8       0.88      0.81      0.84      1000\n",
      "           9       0.83      0.79      0.81      1000\n",
      "\n",
      "    accuracy                           0.73     10000\n",
      "   macro avg       0.74      0.74      0.74     10000\n",
      "weighted avg       0.74      0.73      0.74     10000\n",
      "\n"
     ]
    }
   ],
   "source": [
    "print(classification_report(y_test_label, prediction))"
   ]
  },
  {
   "cell_type": "code",
   "execution_count": null,
   "metadata": {},
   "outputs": [],
   "source": []
  }
 ],
 "metadata": {
  "kernelspec": {
   "display_name": "Python 3",
   "language": "python",
   "name": "python3"
  },
  "language_info": {
   "codemirror_mode": {
    "name": "ipython",
    "version": 3
   },
   "file_extension": ".py",
   "mimetype": "text/x-python",
   "name": "python",
   "nbconvert_exporter": "python",
   "pygments_lexer": "ipython3",
   "version": "3.7.4"
  }
 },
 "nbformat": 4,
 "nbformat_minor": 2
}
